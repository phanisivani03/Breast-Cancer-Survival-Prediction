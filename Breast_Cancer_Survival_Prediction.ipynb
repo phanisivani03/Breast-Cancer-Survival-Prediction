{
  "nbformat": 4,
  "nbformat_minor": 0,
  "metadata": {
    "colab": {
      "provenance": [],
      "authorship_tag": "ABX9TyOBFrazKCZdkfdbITCySVNU",
      "include_colab_link": true
    },
    "kernelspec": {
      "name": "python3",
      "display_name": "Python 3"
    },
    "language_info": {
      "name": "python"
    }
  },
  "cells": [
    {
      "cell_type": "markdown",
      "metadata": {
        "id": "view-in-github",
        "colab_type": "text"
      },
      "source": [
        "<a href=\"https://colab.research.google.com/github/phanisivani03/Breast-Cancer-Survival-Prediction/blob/main/Breast_Cancer_Survival_Prediction.ipynb\" target=\"_parent\"><img src=\"https://colab.research.google.com/assets/colab-badge.svg\" alt=\"Open In Colab\"/></a>"
      ]
    },
    {
      "cell_type": "code",
      "execution_count": null,
      "metadata": {
        "id": "DQ4gkMGehFVp"
      },
      "outputs": [],
      "source": [
        "import numpy as np\n",
        "import pandas as pd\n",
        "import seaborn as sns"
      ]
    },
    {
      "cell_type": "code",
      "source": [
        "brcp_data = pd.read_csv('cancer_data.csv',low_memory=False)"
      ],
      "metadata": {
        "id": "6W8Qduz1tDuw"
      },
      "execution_count": null,
      "outputs": []
    },
    {
      "cell_type": "code",
      "source": [
        "brcp_data.shape"
      ],
      "metadata": {
        "colab": {
          "base_uri": "https://localhost:8080/"
        },
        "id": "WpMy4xw4kpEa",
        "outputId": "663a6f32-683c-4beb-befb-2d0a4a45e781"
      },
      "execution_count": null,
      "outputs": [
        {
          "output_type": "execute_result",
          "data": {
            "text/plain": [
              "(1904, 31)"
            ]
          },
          "metadata": {},
          "execution_count": 7
        }
      ]
    },
    {
      "cell_type": "code",
      "source": [
        "brcp_data.head()"
      ],
      "metadata": {
        "colab": {
          "base_uri": "https://localhost:8080/",
          "height": 359
        },
        "id": "AP_Ky6njk1Ti",
        "outputId": "631cb7b5-1a24-41ae-c0d7-f5d942e95b2c"
      },
      "execution_count": null,
      "outputs": [
        {
          "output_type": "execute_result",
          "data": {
            "text/plain": [
              "   patient_id  age_at_diagnosis type_of_breast_surgery    cancer_type  \\\n",
              "0           0             75.65             MASTECTOMY  Breast Cancer   \n",
              "1           2             43.19      BREAST CONSERVING  Breast Cancer   \n",
              "2           5             48.87             MASTECTOMY  Breast Cancer   \n",
              "3           6             47.68             MASTECTOMY  Breast Cancer   \n",
              "4           8             76.97             MASTECTOMY  Breast Cancer   \n",
              "\n",
              "                        cancer_type_detailed cellularity  chemotherapy  \\\n",
              "0           Breast Invasive Ductal Carcinoma         NaN             0   \n",
              "1           Breast Invasive Ductal Carcinoma        High             0   \n",
              "2           Breast Invasive Ductal Carcinoma        High             1   \n",
              "3  Breast Mixed Ductal and Lobular Carcinoma    Moderate             1   \n",
              "4  Breast Mixed Ductal and Lobular Carcinoma        High             1   \n",
              "\n",
              "  pam50_+_claudin-low_subtype  cohort er_status_measured_by_ihc  ...  \\\n",
              "0                 claudin-low       1                   Positve  ...   \n",
              "1                        LumA       1                   Positve  ...   \n",
              "2                        LumB       1                   Positve  ...   \n",
              "3                        LumB       1                   Positve  ...   \n",
              "4                        LumB       1                   Positve  ...   \n",
              "\n",
              "  nottingham_prognostic_index  oncotree_code overall_survival_months  \\\n",
              "0                       6.044            IDC              140.500000   \n",
              "1                       4.020            IDC               84.633333   \n",
              "2                       4.030            IDC              163.700000   \n",
              "3                       4.050           MDLC              164.933333   \n",
              "4                       6.080           MDLC               41.366667   \n",
              "\n",
              "  overall_survival pr_status  radio_therapy 3-gene_classifier_subtype  \\\n",
              "0                1  Negative              1                 ER-/HER2-   \n",
              "1                1  Positive              1     ER+/HER2- High Prolif   \n",
              "2                0  Positive              0                       NaN   \n",
              "3                1  Positive              1                       NaN   \n",
              "4                0  Positive              1     ER+/HER2- High Prolif   \n",
              "\n",
              "  tumor_size tumor_stage  death_from_cancer  \n",
              "0       22.0         2.0             Living  \n",
              "1       10.0         1.0             Living  \n",
              "2       15.0         2.0    Died of Disease  \n",
              "3       25.0         2.0             Living  \n",
              "4       40.0         2.0    Died of Disease  \n",
              "\n",
              "[5 rows x 31 columns]"
            ],
            "text/html": [
              "\n",
              "  <div id=\"df-f110256e-df6a-4ff4-83b2-fccd9794f67c\" class=\"colab-df-container\">\n",
              "    <div>\n",
              "<style scoped>\n",
              "    .dataframe tbody tr th:only-of-type {\n",
              "        vertical-align: middle;\n",
              "    }\n",
              "\n",
              "    .dataframe tbody tr th {\n",
              "        vertical-align: top;\n",
              "    }\n",
              "\n",
              "    .dataframe thead th {\n",
              "        text-align: right;\n",
              "    }\n",
              "</style>\n",
              "<table border=\"1\" class=\"dataframe\">\n",
              "  <thead>\n",
              "    <tr style=\"text-align: right;\">\n",
              "      <th></th>\n",
              "      <th>patient_id</th>\n",
              "      <th>age_at_diagnosis</th>\n",
              "      <th>type_of_breast_surgery</th>\n",
              "      <th>cancer_type</th>\n",
              "      <th>cancer_type_detailed</th>\n",
              "      <th>cellularity</th>\n",
              "      <th>chemotherapy</th>\n",
              "      <th>pam50_+_claudin-low_subtype</th>\n",
              "      <th>cohort</th>\n",
              "      <th>er_status_measured_by_ihc</th>\n",
              "      <th>...</th>\n",
              "      <th>nottingham_prognostic_index</th>\n",
              "      <th>oncotree_code</th>\n",
              "      <th>overall_survival_months</th>\n",
              "      <th>overall_survival</th>\n",
              "      <th>pr_status</th>\n",
              "      <th>radio_therapy</th>\n",
              "      <th>3-gene_classifier_subtype</th>\n",
              "      <th>tumor_size</th>\n",
              "      <th>tumor_stage</th>\n",
              "      <th>death_from_cancer</th>\n",
              "    </tr>\n",
              "  </thead>\n",
              "  <tbody>\n",
              "    <tr>\n",
              "      <th>0</th>\n",
              "      <td>0</td>\n",
              "      <td>75.65</td>\n",
              "      <td>MASTECTOMY</td>\n",
              "      <td>Breast Cancer</td>\n",
              "      <td>Breast Invasive Ductal Carcinoma</td>\n",
              "      <td>NaN</td>\n",
              "      <td>0</td>\n",
              "      <td>claudin-low</td>\n",
              "      <td>1</td>\n",
              "      <td>Positve</td>\n",
              "      <td>...</td>\n",
              "      <td>6.044</td>\n",
              "      <td>IDC</td>\n",
              "      <td>140.500000</td>\n",
              "      <td>1</td>\n",
              "      <td>Negative</td>\n",
              "      <td>1</td>\n",
              "      <td>ER-/HER2-</td>\n",
              "      <td>22.0</td>\n",
              "      <td>2.0</td>\n",
              "      <td>Living</td>\n",
              "    </tr>\n",
              "    <tr>\n",
              "      <th>1</th>\n",
              "      <td>2</td>\n",
              "      <td>43.19</td>\n",
              "      <td>BREAST CONSERVING</td>\n",
              "      <td>Breast Cancer</td>\n",
              "      <td>Breast Invasive Ductal Carcinoma</td>\n",
              "      <td>High</td>\n",
              "      <td>0</td>\n",
              "      <td>LumA</td>\n",
              "      <td>1</td>\n",
              "      <td>Positve</td>\n",
              "      <td>...</td>\n",
              "      <td>4.020</td>\n",
              "      <td>IDC</td>\n",
              "      <td>84.633333</td>\n",
              "      <td>1</td>\n",
              "      <td>Positive</td>\n",
              "      <td>1</td>\n",
              "      <td>ER+/HER2- High Prolif</td>\n",
              "      <td>10.0</td>\n",
              "      <td>1.0</td>\n",
              "      <td>Living</td>\n",
              "    </tr>\n",
              "    <tr>\n",
              "      <th>2</th>\n",
              "      <td>5</td>\n",
              "      <td>48.87</td>\n",
              "      <td>MASTECTOMY</td>\n",
              "      <td>Breast Cancer</td>\n",
              "      <td>Breast Invasive Ductal Carcinoma</td>\n",
              "      <td>High</td>\n",
              "      <td>1</td>\n",
              "      <td>LumB</td>\n",
              "      <td>1</td>\n",
              "      <td>Positve</td>\n",
              "      <td>...</td>\n",
              "      <td>4.030</td>\n",
              "      <td>IDC</td>\n",
              "      <td>163.700000</td>\n",
              "      <td>0</td>\n",
              "      <td>Positive</td>\n",
              "      <td>0</td>\n",
              "      <td>NaN</td>\n",
              "      <td>15.0</td>\n",
              "      <td>2.0</td>\n",
              "      <td>Died of Disease</td>\n",
              "    </tr>\n",
              "    <tr>\n",
              "      <th>3</th>\n",
              "      <td>6</td>\n",
              "      <td>47.68</td>\n",
              "      <td>MASTECTOMY</td>\n",
              "      <td>Breast Cancer</td>\n",
              "      <td>Breast Mixed Ductal and Lobular Carcinoma</td>\n",
              "      <td>Moderate</td>\n",
              "      <td>1</td>\n",
              "      <td>LumB</td>\n",
              "      <td>1</td>\n",
              "      <td>Positve</td>\n",
              "      <td>...</td>\n",
              "      <td>4.050</td>\n",
              "      <td>MDLC</td>\n",
              "      <td>164.933333</td>\n",
              "      <td>1</td>\n",
              "      <td>Positive</td>\n",
              "      <td>1</td>\n",
              "      <td>NaN</td>\n",
              "      <td>25.0</td>\n",
              "      <td>2.0</td>\n",
              "      <td>Living</td>\n",
              "    </tr>\n",
              "    <tr>\n",
              "      <th>4</th>\n",
              "      <td>8</td>\n",
              "      <td>76.97</td>\n",
              "      <td>MASTECTOMY</td>\n",
              "      <td>Breast Cancer</td>\n",
              "      <td>Breast Mixed Ductal and Lobular Carcinoma</td>\n",
              "      <td>High</td>\n",
              "      <td>1</td>\n",
              "      <td>LumB</td>\n",
              "      <td>1</td>\n",
              "      <td>Positve</td>\n",
              "      <td>...</td>\n",
              "      <td>6.080</td>\n",
              "      <td>MDLC</td>\n",
              "      <td>41.366667</td>\n",
              "      <td>0</td>\n",
              "      <td>Positive</td>\n",
              "      <td>1</td>\n",
              "      <td>ER+/HER2- High Prolif</td>\n",
              "      <td>40.0</td>\n",
              "      <td>2.0</td>\n",
              "      <td>Died of Disease</td>\n",
              "    </tr>\n",
              "  </tbody>\n",
              "</table>\n",
              "<p>5 rows × 31 columns</p>\n",
              "</div>\n",
              "    <div class=\"colab-df-buttons\">\n",
              "\n",
              "  <div class=\"colab-df-container\">\n",
              "    <button class=\"colab-df-convert\" onclick=\"convertToInteractive('df-f110256e-df6a-4ff4-83b2-fccd9794f67c')\"\n",
              "            title=\"Convert this dataframe to an interactive table.\"\n",
              "            style=\"display:none;\">\n",
              "\n",
              "  <svg xmlns=\"http://www.w3.org/2000/svg\" height=\"24px\" viewBox=\"0 -960 960 960\">\n",
              "    <path d=\"M120-120v-720h720v720H120Zm60-500h600v-160H180v160Zm220 220h160v-160H400v160Zm0 220h160v-160H400v160ZM180-400h160v-160H180v160Zm440 0h160v-160H620v160ZM180-180h160v-160H180v160Zm440 0h160v-160H620v160Z\"/>\n",
              "  </svg>\n",
              "    </button>\n",
              "\n",
              "  <style>\n",
              "    .colab-df-container {\n",
              "      display:flex;\n",
              "      gap: 12px;\n",
              "    }\n",
              "\n",
              "    .colab-df-convert {\n",
              "      background-color: #E8F0FE;\n",
              "      border: none;\n",
              "      border-radius: 50%;\n",
              "      cursor: pointer;\n",
              "      display: none;\n",
              "      fill: #1967D2;\n",
              "      height: 32px;\n",
              "      padding: 0 0 0 0;\n",
              "      width: 32px;\n",
              "    }\n",
              "\n",
              "    .colab-df-convert:hover {\n",
              "      background-color: #E2EBFA;\n",
              "      box-shadow: 0px 1px 2px rgba(60, 64, 67, 0.3), 0px 1px 3px 1px rgba(60, 64, 67, 0.15);\n",
              "      fill: #174EA6;\n",
              "    }\n",
              "\n",
              "    .colab-df-buttons div {\n",
              "      margin-bottom: 4px;\n",
              "    }\n",
              "\n",
              "    [theme=dark] .colab-df-convert {\n",
              "      background-color: #3B4455;\n",
              "      fill: #D2E3FC;\n",
              "    }\n",
              "\n",
              "    [theme=dark] .colab-df-convert:hover {\n",
              "      background-color: #434B5C;\n",
              "      box-shadow: 0px 1px 3px 1px rgba(0, 0, 0, 0.15);\n",
              "      filter: drop-shadow(0px 1px 2px rgba(0, 0, 0, 0.3));\n",
              "      fill: #FFFFFF;\n",
              "    }\n",
              "  </style>\n",
              "\n",
              "    <script>\n",
              "      const buttonEl =\n",
              "        document.querySelector('#df-f110256e-df6a-4ff4-83b2-fccd9794f67c button.colab-df-convert');\n",
              "      buttonEl.style.display =\n",
              "        google.colab.kernel.accessAllowed ? 'block' : 'none';\n",
              "\n",
              "      async function convertToInteractive(key) {\n",
              "        const element = document.querySelector('#df-f110256e-df6a-4ff4-83b2-fccd9794f67c');\n",
              "        const dataTable =\n",
              "          await google.colab.kernel.invokeFunction('convertToInteractive',\n",
              "                                                    [key], {});\n",
              "        if (!dataTable) return;\n",
              "\n",
              "        const docLinkHtml = 'Like what you see? Visit the ' +\n",
              "          '<a target=\"_blank\" href=https://colab.research.google.com/notebooks/data_table.ipynb>data table notebook</a>'\n",
              "          + ' to learn more about interactive tables.';\n",
              "        element.innerHTML = '';\n",
              "        dataTable['output_type'] = 'display_data';\n",
              "        await google.colab.output.renderOutput(dataTable, element);\n",
              "        const docLink = document.createElement('div');\n",
              "        docLink.innerHTML = docLinkHtml;\n",
              "        element.appendChild(docLink);\n",
              "      }\n",
              "    </script>\n",
              "  </div>\n",
              "\n",
              "\n",
              "<div id=\"df-669ebc07-05d8-4d6b-8318-9c53b2fe7284\">\n",
              "  <button class=\"colab-df-quickchart\" onclick=\"quickchart('df-669ebc07-05d8-4d6b-8318-9c53b2fe7284')\"\n",
              "            title=\"Suggest charts.\"\n",
              "            style=\"display:none;\">\n",
              "\n",
              "<svg xmlns=\"http://www.w3.org/2000/svg\" height=\"24px\"viewBox=\"0 0 24 24\"\n",
              "     width=\"24px\">\n",
              "    <g>\n",
              "        <path d=\"M19 3H5c-1.1 0-2 .9-2 2v14c0 1.1.9 2 2 2h14c1.1 0 2-.9 2-2V5c0-1.1-.9-2-2-2zM9 17H7v-7h2v7zm4 0h-2V7h2v10zm4 0h-2v-4h2v4z\"/>\n",
              "    </g>\n",
              "</svg>\n",
              "  </button>\n",
              "\n",
              "<style>\n",
              "  .colab-df-quickchart {\n",
              "      --bg-color: #E8F0FE;\n",
              "      --fill-color: #1967D2;\n",
              "      --hover-bg-color: #E2EBFA;\n",
              "      --hover-fill-color: #174EA6;\n",
              "      --disabled-fill-color: #AAA;\n",
              "      --disabled-bg-color: #DDD;\n",
              "  }\n",
              "\n",
              "  [theme=dark] .colab-df-quickchart {\n",
              "      --bg-color: #3B4455;\n",
              "      --fill-color: #D2E3FC;\n",
              "      --hover-bg-color: #434B5C;\n",
              "      --hover-fill-color: #FFFFFF;\n",
              "      --disabled-bg-color: #3B4455;\n",
              "      --disabled-fill-color: #666;\n",
              "  }\n",
              "\n",
              "  .colab-df-quickchart {\n",
              "    background-color: var(--bg-color);\n",
              "    border: none;\n",
              "    border-radius: 50%;\n",
              "    cursor: pointer;\n",
              "    display: none;\n",
              "    fill: var(--fill-color);\n",
              "    height: 32px;\n",
              "    padding: 0;\n",
              "    width: 32px;\n",
              "  }\n",
              "\n",
              "  .colab-df-quickchart:hover {\n",
              "    background-color: var(--hover-bg-color);\n",
              "    box-shadow: 0 1px 2px rgba(60, 64, 67, 0.3), 0 1px 3px 1px rgba(60, 64, 67, 0.15);\n",
              "    fill: var(--button-hover-fill-color);\n",
              "  }\n",
              "\n",
              "  .colab-df-quickchart-complete:disabled,\n",
              "  .colab-df-quickchart-complete:disabled:hover {\n",
              "    background-color: var(--disabled-bg-color);\n",
              "    fill: var(--disabled-fill-color);\n",
              "    box-shadow: none;\n",
              "  }\n",
              "\n",
              "  .colab-df-spinner {\n",
              "    border: 2px solid var(--fill-color);\n",
              "    border-color: transparent;\n",
              "    border-bottom-color: var(--fill-color);\n",
              "    animation:\n",
              "      spin 1s steps(1) infinite;\n",
              "  }\n",
              "\n",
              "  @keyframes spin {\n",
              "    0% {\n",
              "      border-color: transparent;\n",
              "      border-bottom-color: var(--fill-color);\n",
              "      border-left-color: var(--fill-color);\n",
              "    }\n",
              "    20% {\n",
              "      border-color: transparent;\n",
              "      border-left-color: var(--fill-color);\n",
              "      border-top-color: var(--fill-color);\n",
              "    }\n",
              "    30% {\n",
              "      border-color: transparent;\n",
              "      border-left-color: var(--fill-color);\n",
              "      border-top-color: var(--fill-color);\n",
              "      border-right-color: var(--fill-color);\n",
              "    }\n",
              "    40% {\n",
              "      border-color: transparent;\n",
              "      border-right-color: var(--fill-color);\n",
              "      border-top-color: var(--fill-color);\n",
              "    }\n",
              "    60% {\n",
              "      border-color: transparent;\n",
              "      border-right-color: var(--fill-color);\n",
              "    }\n",
              "    80% {\n",
              "      border-color: transparent;\n",
              "      border-right-color: var(--fill-color);\n",
              "      border-bottom-color: var(--fill-color);\n",
              "    }\n",
              "    90% {\n",
              "      border-color: transparent;\n",
              "      border-bottom-color: var(--fill-color);\n",
              "    }\n",
              "  }\n",
              "</style>\n",
              "\n",
              "  <script>\n",
              "    async function quickchart(key) {\n",
              "      const quickchartButtonEl =\n",
              "        document.querySelector('#' + key + ' button');\n",
              "      quickchartButtonEl.disabled = true;  // To prevent multiple clicks.\n",
              "      quickchartButtonEl.classList.add('colab-df-spinner');\n",
              "      try {\n",
              "        const charts = await google.colab.kernel.invokeFunction(\n",
              "            'suggestCharts', [key], {});\n",
              "      } catch (error) {\n",
              "        console.error('Error during call to suggestCharts:', error);\n",
              "      }\n",
              "      quickchartButtonEl.classList.remove('colab-df-spinner');\n",
              "      quickchartButtonEl.classList.add('colab-df-quickchart-complete');\n",
              "    }\n",
              "    (() => {\n",
              "      let quickchartButtonEl =\n",
              "        document.querySelector('#df-669ebc07-05d8-4d6b-8318-9c53b2fe7284 button');\n",
              "      quickchartButtonEl.style.display =\n",
              "        google.colab.kernel.accessAllowed ? 'block' : 'none';\n",
              "    })();\n",
              "  </script>\n",
              "</div>\n",
              "    </div>\n",
              "  </div>\n"
            ]
          },
          "metadata": {},
          "execution_count": 8
        }
      ]
    },
    {
      "cell_type": "code",
      "source": [
        "brcp_data.columns"
      ],
      "metadata": {
        "colab": {
          "base_uri": "https://localhost:8080/"
        },
        "id": "mJ68UI5lmbUZ",
        "outputId": "ee0be064-d3fb-42a6-ca16-1748ba24934a"
      },
      "execution_count": null,
      "outputs": [
        {
          "output_type": "execute_result",
          "data": {
            "text/plain": [
              "Index(['patient_id', 'age_at_diagnosis', 'type_of_breast_surgery',\n",
              "       'cancer_type', 'cancer_type_detailed', 'cellularity', 'chemotherapy',\n",
              "       'pam50_+_claudin-low_subtype', 'cohort', 'er_status_measured_by_ihc',\n",
              "       'er_status', 'neoplasm_histologic_grade',\n",
              "       'her2_status_measured_by_snp6', 'her2_status',\n",
              "       'tumor_other_histologic_subtype', 'hormone_therapy',\n",
              "       'inferred_menopausal_state', 'integrative_cluster',\n",
              "       'primary_tumor_laterality', 'lymph_nodes_examined_positive',\n",
              "       'mutation_count', 'nottingham_prognostic_index', 'oncotree_code',\n",
              "       'overall_survival_months', 'overall_survival', 'pr_status',\n",
              "       'radio_therapy', '3-gene_classifier_subtype', 'tumor_size',\n",
              "       'tumor_stage', 'death_from_cancer'],\n",
              "      dtype='object')"
            ]
          },
          "metadata": {},
          "execution_count": 9
        }
      ]
    },
    {
      "cell_type": "code",
      "source": [
        "brcp_data = brcp_data.drop(['patient_id'],axis=1)"
      ],
      "metadata": {
        "id": "WmKvYcjimheS"
      },
      "execution_count": null,
      "outputs": []
    },
    {
      "cell_type": "code",
      "source": [
        "print(brcp_data.isnull().sum())"
      ],
      "metadata": {
        "colab": {
          "base_uri": "https://localhost:8080/"
        },
        "id": "653CKC09mmDD",
        "outputId": "561372ad-4969-4599-9db5-709226d3a691"
      },
      "execution_count": null,
      "outputs": [
        {
          "output_type": "stream",
          "name": "stdout",
          "text": [
            "age_at_diagnosis                    0\n",
            "type_of_breast_surgery             22\n",
            "cancer_type                         0\n",
            "cancer_type_detailed               15\n",
            "cellularity                        54\n",
            "chemotherapy                        0\n",
            "pam50_+_claudin-low_subtype         0\n",
            "cohort                              0\n",
            "er_status_measured_by_ihc          30\n",
            "er_status                           0\n",
            "neoplasm_histologic_grade          72\n",
            "her2_status_measured_by_snp6        0\n",
            "her2_status                         0\n",
            "tumor_other_histologic_subtype     15\n",
            "hormone_therapy                     0\n",
            "inferred_menopausal_state           0\n",
            "integrative_cluster                 0\n",
            "primary_tumor_laterality          106\n",
            "lymph_nodes_examined_positive       0\n",
            "mutation_count                     45\n",
            "nottingham_prognostic_index         0\n",
            "oncotree_code                      15\n",
            "overall_survival_months             0\n",
            "overall_survival                    0\n",
            "pr_status                           0\n",
            "radio_therapy                       0\n",
            "3-gene_classifier_subtype         204\n",
            "tumor_size                         20\n",
            "tumor_stage                       501\n",
            "death_from_cancer                   1\n",
            "dtype: int64\n"
          ]
        }
      ]
    },
    {
      "cell_type": "code",
      "source": [
        "brcp_data = brcp_data.dropna()"
      ],
      "metadata": {
        "id": "dlRjNdSJmpCM"
      },
      "execution_count": null,
      "outputs": []
    },
    {
      "cell_type": "code",
      "source": [
        "brcp_data.shape"
      ],
      "metadata": {
        "colab": {
          "base_uri": "https://localhost:8080/"
        },
        "id": "M2VNebj3mtQM",
        "outputId": "19a1a008-24c3-4bbe-825c-f7f971b78f20"
      },
      "execution_count": null,
      "outputs": [
        {
          "output_type": "execute_result",
          "data": {
            "text/plain": [
              "(1092, 30)"
            ]
          },
          "metadata": {},
          "execution_count": 13
        }
      ]
    },
    {
      "cell_type": "code",
      "source": [
        "brcp_data['death_from_cancer'].value_counts()"
      ],
      "metadata": {
        "colab": {
          "base_uri": "https://localhost:8080/"
        },
        "id": "94786Ug3mxQL",
        "outputId": "15e67bb9-ed38-44e5-8d18-36eef93b85f2"
      },
      "execution_count": null,
      "outputs": [
        {
          "output_type": "execute_result",
          "data": {
            "text/plain": [
              "Living                  484\n",
              "Died of Disease         370\n",
              "Died of Other Causes    238\n",
              "Name: death_from_cancer, dtype: int64"
            ]
          },
          "metadata": {},
          "execution_count": 14
        }
      ]
    },
    {
      "cell_type": "code",
      "source": [
        "sns.countplot(data=brcp_data, x='death_from_cancer')"
      ],
      "metadata": {
        "colab": {
          "base_uri": "https://localhost:8080/",
          "height": 467
        },
        "id": "FTxtJH01m7JI",
        "outputId": "a80eac19-bc7f-4419-e608-677da18ad6e8"
      },
      "execution_count": null,
      "outputs": [
        {
          "output_type": "execute_result",
          "data": {
            "text/plain": [
              "<Axes: xlabel='death_from_cancer', ylabel='count'>"
            ]
          },
          "metadata": {},
          "execution_count": 17
        },
        {
          "output_type": "display_data",
          "data": {
            "text/plain": [
              "<Figure size 640x480 with 1 Axes>"
            ],
            "image/png": "[encoded data removed]"
          },
          "metadata": {}
        }
      ]
    },
    {
      "cell_type": "code",
      "source": [
        "counts = brcp_data['death_from_cancer'].value_counts().values\n",
        "print('Percentage of each class is: ', counts*100/np.sum(counts))"
      ],
      "metadata": {
        "colab": {
          "base_uri": "https://localhost:8080/"
        },
        "id": "bA14KYME2NCZ",
        "outputId": "dcc16b03-da50-4cb1-b53a-d4c15e8157fe"
      },
      "execution_count": null,
      "outputs": [
        {
          "output_type": "stream",
          "name": "stdout",
          "text": [
            "Percentage of each class is:  [44.32234432 33.88278388 21.79487179]\n"
          ]
        }
      ]
    },
    {
      "cell_type": "code",
      "source": [
        "binary_counts = (brcp_data['death_from_cancer'] !='Living').value_counts().values\n",
        "print('Percentage of binary classes are: ', binary_counts*100/np.sum(binary_counts))"
      ],
      "metadata": {
        "colab": {
          "base_uri": "https://localhost:8080/"
        },
        "id": "qBNSe9Lg2RxY",
        "outputId": "28395c2d-cdcc-46db-81f2-500ee4395aa1"
      },
      "execution_count": null,
      "outputs": [
        {
          "output_type": "stream",
          "name": "stdout",
          "text": [
            "Percentage of binary classes are:  [55.67765568 44.32234432]\n"
          ]
        }
      ]
    },
    {
      "cell_type": "code",
      "source": [
        "binary_counts = brcp_data['overall_survival'].value_counts()\n",
        "print('Percentage of binary classes are: ', binary_counts*100/np.sum(binary_counts))"
      ],
      "metadata": {
        "colab": {
          "base_uri": "https://localhost:8080/"
        },
        "id": "xCaxwP-W2VqT",
        "outputId": "6c6887c4-bcfc-4d19-b531-3b132e1c09cf"
      },
      "execution_count": null,
      "outputs": [
        {
          "output_type": "stream",
          "name": "stdout",
          "text": [
            "Percentage of binary classes are:  0    55.677656\n",
            "1    44.322344\n",
            "Name: overall_survival, dtype: float64\n"
          ]
        }
      ]
    },
    {
      "cell_type": "code",
      "source": [
        "brcp_data['overall_survival'].value_counts()"
      ],
      "metadata": {
        "colab": {
          "base_uri": "https://localhost:8080/"
        },
        "id": "nyURw7ev2Zd_",
        "outputId": "1e951d3d-7e4a-4b38-a03a-b2dacd17ee46"
      },
      "execution_count": null,
      "outputs": [
        {
          "output_type": "execute_result",
          "data": {
            "text/plain": [
              "0    608\n",
              "1    484\n",
              "Name: overall_survival, dtype: int64"
            ]
          },
          "metadata": {},
          "execution_count": 21
        }
      ]
    },
    {
      "cell_type": "code",
      "source": [
        "sns.countplot(data=brcp_data, x='overall_survival', label=\"count\")"
      ],
      "metadata": {
        "colab": {
          "base_uri": "https://localhost:8080/",
          "height": 467
        },
        "id": "zCx4TAmP2dyZ",
        "outputId": "97bae55c-d782-4266-e8ef-186d59cee368"
      },
      "execution_count": null,
      "outputs": [
        {
          "output_type": "execute_result",
          "data": {
            "text/plain": [
              "<Axes: xlabel='overall_survival', ylabel='count'>"
            ]
          },
          "metadata": {},
          "execution_count": 23
        },
        {
          "output_type": "display_data",
          "data": {
            "text/plain": [
              "<Figure size 640x480 with 1 Axes>"
            ],
            "image/png": "[encoded data removed]"
          },
          "metadata": {}
        }
      ]
    },
    {
      "cell_type": "code",
      "source": [
        "brcp_data= brcp_data.sample(frac=1)\n",
        "Dead_data = brcp_data.loc[brcp_data['overall_survival'] == 0][:484]\n",
        "Alive_data = brcp_data[brcp_data['overall_survival'] == 1]\n",
        "\n",
        "normal_data = pd.concat([Dead_data, Alive_data])\n",
        "\n",
        "new_data = normal_data.sample(frac=1, random_state=42)\n",
        "\n",
        "new_data.head()"
      ],
      "metadata": {
        "colab": {
          "base_uri": "https://localhost:8080/",
          "height": 359
        },
        "id": "qL_mtnEP2rik",
        "outputId": "b0991130-af5b-475b-928c-97e0b9fe1ece"
      },
      "execution_count": null,
      "outputs": [
        {
          "output_type": "execute_result",
          "data": {
            "text/plain": [
              "      age_at_diagnosis type_of_breast_surgery    cancer_type  \\\n",
              "151              62.70      BREAST CONSERVING  Breast Cancer   \n",
              "1618             71.22             MASTECTOMY  Breast Cancer   \n",
              "394              33.80             MASTECTOMY  Breast Cancer   \n",
              "887              67.03      BREAST CONSERVING  Breast Cancer   \n",
              "1282             71.40             MASTECTOMY  Breast Cancer   \n",
              "\n",
              "                           cancer_type_detailed cellularity  chemotherapy  \\\n",
              "151            Breast Invasive Ductal Carcinoma        High             0   \n",
              "1618  Breast Mixed Ductal and Lobular Carcinoma        High             0   \n",
              "394            Breast Invasive Ductal Carcinoma    Moderate             1   \n",
              "887   Breast Mixed Ductal and Lobular Carcinoma    Moderate             0   \n",
              "1282  Breast Mixed Ductal and Lobular Carcinoma        High             0   \n",
              "\n",
              "     pam50_+_claudin-low_subtype  cohort er_status_measured_by_ihc er_status  \\\n",
              "151                         LumA       1                   Positve  Positive   \n",
              "1618                        LumA       5                   Positve  Positive   \n",
              "394                         LumA       1                   Positve  Positive   \n",
              "887                         LumA       3                   Positve  Positive   \n",
              "1282                        LumA       3                   Positve  Positive   \n",
              "\n",
              "      ...  nottingham_prognostic_index oncotree_code overall_survival_months  \\\n",
              "151   ...                        4.022           IDC               86.133333   \n",
              "1618  ...                        5.060          MDLC               85.000000   \n",
              "394   ...                        5.080           IDC               79.366667   \n",
              "887   ...                        5.050          MDLC              318.200000   \n",
              "1282  ...                        3.060          MDLC              153.300000   \n",
              "\n",
              "     overall_survival  pr_status radio_therapy 3-gene_classifier_subtype  \\\n",
              "151                 1   Positive             1     ER+/HER2- High Prolif   \n",
              "1618                0   Positive             0      ER+/HER2- Low Prolif   \n",
              "394                 0   Positive             1     ER+/HER2- High Prolif   \n",
              "887                 1   Positive             1      ER+/HER2- Low Prolif   \n",
              "1282                0   Negative             0      ER+/HER2- Low Prolif   \n",
              "\n",
              "     tumor_size  tumor_stage     death_from_cancer  \n",
              "151        11.0          1.0                Living  \n",
              "1618       30.0          2.0  Died of Other Causes  \n",
              "394        40.0          2.0       Died of Disease  \n",
              "887        25.0          2.0                Living  \n",
              "1282       30.0          2.0  Died of Other Causes  \n",
              "\n",
              "[5 rows x 30 columns]"
            ],
            "text/html": [
              "\n",
              "  <div id=\"df-28daa89f-88f6-403a-9024-078837232e29\" class=\"colab-df-container\">\n",
              "    <div>\n",
              "<style scoped>\n",
              "    .dataframe tbody tr th:only-of-type {\n",
              "        vertical-align: middle;\n",
              "    }\n",
              "\n",
              "    .dataframe tbody tr th {\n",
              "        vertical-align: top;\n",
              "    }\n",
              "\n",
              "    .dataframe thead th {\n",
              "        text-align: right;\n",
              "    }\n",
              "</style>\n",
              "<table border=\"1\" class=\"dataframe\">\n",
              "  <thead>\n",
              "    <tr style=\"text-align: right;\">\n",
              "      <th></th>\n",
              "      <th>age_at_diagnosis</th>\n",
              "      <th>type_of_breast_surgery</th>\n",
              "      <th>cancer_type</th>\n",
              "      <th>cancer_type_detailed</th>\n",
              "      <th>cellularity</th>\n",
              "      <th>chemotherapy</th>\n",
              "      <th>pam50_+_claudin-low_subtype</th>\n",
              "      <th>cohort</th>\n",
              "      <th>er_status_measured_by_ihc</th>\n",
              "      <th>er_status</th>\n",
              "      <th>...</th>\n",
              "      <th>nottingham_prognostic_index</th>\n",
              "      <th>oncotree_code</th>\n",
              "      <th>overall_survival_months</th>\n",
              "      <th>overall_survival</th>\n",
              "      <th>pr_status</th>\n",
              "      <th>radio_therapy</th>\n",
              "      <th>3-gene_classifier_subtype</th>\n",
              "      <th>tumor_size</th>\n",
              "      <th>tumor_stage</th>\n",
              "      <th>death_from_cancer</th>\n",
              "    </tr>\n",
              "  </thead>\n",
              "  <tbody>\n",
              "    <tr>\n",
              "      <th>151</th>\n",
              "      <td>62.70</td>\n",
              "      <td>BREAST CONSERVING</td>\n",
              "      <td>Breast Cancer</td>\n",
              "      <td>Breast Invasive Ductal Carcinoma</td>\n",
              "      <td>High</td>\n",
              "      <td>0</td>\n",
              "      <td>LumA</td>\n",
              "      <td>1</td>\n",
              "      <td>Positve</td>\n",
              "      <td>Positive</td>\n",
              "      <td>...</td>\n",
              "      <td>4.022</td>\n",
              "      <td>IDC</td>\n",
              "      <td>86.133333</td>\n",
              "      <td>1</td>\n",
              "      <td>Positive</td>\n",
              "      <td>1</td>\n",
              "      <td>ER+/HER2- High Prolif</td>\n",
              "      <td>11.0</td>\n",
              "      <td>1.0</td>\n",
              "      <td>Living</td>\n",
              "    </tr>\n",
              "    <tr>\n",
              "      <th>1618</th>\n",
              "      <td>71.22</td>\n",
              "      <td>MASTECTOMY</td>\n",
              "      <td>Breast Cancer</td>\n",
              "      <td>Breast Mixed Ductal and Lobular Carcinoma</td>\n",
              "      <td>High</td>\n",
              "      <td>0</td>\n",
              "      <td>LumA</td>\n",
              "      <td>5</td>\n",
              "      <td>Positve</td>\n",
              "      <td>Positive</td>\n",
              "      <td>...</td>\n",
              "      <td>5.060</td>\n",
              "      <td>MDLC</td>\n",
              "      <td>85.000000</td>\n",
              "      <td>0</td>\n",
              "      <td>Positive</td>\n",
              "      <td>0</td>\n",
              "      <td>ER+/HER2- Low Prolif</td>\n",
              "      <td>30.0</td>\n",
              "      <td>2.0</td>\n",
              "      <td>Died of Other Causes</td>\n",
              "    </tr>\n",
              "    <tr>\n",
              "      <th>394</th>\n",
              "      <td>33.80</td>\n",
              "      <td>MASTECTOMY</td>\n",
              "      <td>Breast Cancer</td>\n",
              "      <td>Breast Invasive Ductal Carcinoma</td>\n",
              "      <td>Moderate</td>\n",
              "      <td>1</td>\n",
              "      <td>LumA</td>\n",
              "      <td>1</td>\n",
              "      <td>Positve</td>\n",
              "      <td>Positive</td>\n",
              "      <td>...</td>\n",
              "      <td>5.080</td>\n",
              "      <td>IDC</td>\n",
              "      <td>79.366667</td>\n",
              "      <td>0</td>\n",
              "      <td>Positive</td>\n",
              "      <td>1</td>\n",
              "      <td>ER+/HER2- High Prolif</td>\n",
              "      <td>40.0</td>\n",
              "      <td>2.0</td>\n",
              "      <td>Died of Disease</td>\n",
              "    </tr>\n",
              "    <tr>\n",
              "      <th>887</th>\n",
              "      <td>67.03</td>\n",
              "      <td>BREAST CONSERVING</td>\n",
              "      <td>Breast Cancer</td>\n",
              "      <td>Breast Mixed Ductal and Lobular Carcinoma</td>\n",
              "      <td>Moderate</td>\n",
              "      <td>0</td>\n",
              "      <td>LumA</td>\n",
              "      <td>3</td>\n",
              "      <td>Positve</td>\n",
              "      <td>Positive</td>\n",
              "      <td>...</td>\n",
              "      <td>5.050</td>\n",
              "      <td>MDLC</td>\n",
              "      <td>318.200000</td>\n",
              "      <td>1</td>\n",
              "      <td>Positive</td>\n",
              "      <td>1</td>\n",
              "      <td>ER+/HER2- Low Prolif</td>\n",
              "      <td>25.0</td>\n",
              "      <td>2.0</td>\n",
              "      <td>Living</td>\n",
              "    </tr>\n",
              "    <tr>\n",
              "      <th>1282</th>\n",
              "      <td>71.40</td>\n",
              "      <td>MASTECTOMY</td>\n",
              "      <td>Breast Cancer</td>\n",
              "      <td>Breast Mixed Ductal and Lobular Carcinoma</td>\n",
              "      <td>High</td>\n",
              "      <td>0</td>\n",
              "      <td>LumA</td>\n",
              "      <td>3</td>\n",
              "      <td>Positve</td>\n",
              "      <td>Positive</td>\n",
              "      <td>...</td>\n",
              "      <td>3.060</td>\n",
              "      <td>MDLC</td>\n",
              "      <td>153.300000</td>\n",
              "      <td>0</td>\n",
              "      <td>Negative</td>\n",
              "      <td>0</td>\n",
              "      <td>ER+/HER2- Low Prolif</td>\n",
              "      <td>30.0</td>\n",
              "      <td>2.0</td>\n",
              "      <td>Died of Other Causes</td>\n",
              "    </tr>\n",
              "  </tbody>\n",
              "</table>\n",
              "<p>5 rows × 30 columns</p>\n",
              "</div>\n",
              "    <div class=\"colab-df-buttons\">\n",
              "\n",
              "  <div class=\"colab-df-container\">\n",
              "    <button class=\"colab-df-convert\" onclick=\"convertToInteractive('df-28daa89f-88f6-403a-9024-078837232e29')\"\n",
              "            title=\"Convert this dataframe to an interactive table.\"\n",
              "            style=\"display:none;\">\n",
              "\n",
              "  <svg xmlns=\"http://www.w3.org/2000/svg\" height=\"24px\" viewBox=\"0 -960 960 960\">\n",
              "    <path d=\"M120-120v-720h720v720H120Zm60-500h600v-160H180v160Zm220 220h160v-160H400v160Zm0 220h160v-160H400v160ZM180-400h160v-160H180v160Zm440 0h160v-160H620v160ZM180-180h160v-160H180v160Zm440 0h160v-160H620v160Z\"/>\n",
              "  </svg>\n",
              "    </button>\n",
              "\n",
              "  <style>\n",
              "    .colab-df-container {\n",
              "      display:flex;\n",
              "      gap: 12px;\n",
              "    }\n",
              "\n",
              "    .colab-df-convert {\n",
              "      background-color: #E8F0FE;\n",
              "      border: none;\n",
              "      border-radius: 50%;\n",
              "      cursor: pointer;\n",
              "      display: none;\n",
              "      fill: #1967D2;\n",
              "      height: 32px;\n",
              "      padding: 0 0 0 0;\n",
              "      width: 32px;\n",
              "    }\n",
              "\n",
              "    .colab-df-convert:hover {\n",
              "      background-color: #E2EBFA;\n",
              "      box-shadow: 0px 1px 2px rgba(60, 64, 67, 0.3), 0px 1px 3px 1px rgba(60, 64, 67, 0.15);\n",
              "      fill: #174EA6;\n",
              "    }\n",
              "\n",
              "    .colab-df-buttons div {\n",
              "      margin-bottom: 4px;\n",
              "    }\n",
              "\n",
              "    [theme=dark] .colab-df-convert {\n",
              "      background-color: #3B4455;\n",
              "      fill: #D2E3FC;\n",
              "    }\n",
              "\n",
              "    [theme=dark] .colab-df-convert:hover {\n",
              "      background-color: #434B5C;\n",
              "      box-shadow: 0px 1px 3px 1px rgba(0, 0, 0, 0.15);\n",
              "      filter: drop-shadow(0px 1px 2px rgba(0, 0, 0, 0.3));\n",
              "      fill: #FFFFFF;\n",
              "    }\n",
              "  </style>\n",
              "\n",
              "    <script>\n",
              "      const buttonEl =\n",
              "        document.querySelector('#df-28daa89f-88f6-403a-9024-078837232e29 button.colab-df-convert');\n",
              "      buttonEl.style.display =\n",
              "        google.colab.kernel.accessAllowed ? 'block' : 'none';\n",
              "\n",
              "      async function convertToInteractive(key) {\n",
              "        const element = document.querySelector('#df-28daa89f-88f6-403a-9024-078837232e29');\n",
              "        const dataTable =\n",
              "          await google.colab.kernel.invokeFunction('convertToInteractive',\n",
              "                                                    [key], {});\n",
              "        if (!dataTable) return;\n",
              "\n",
              "        const docLinkHtml = 'Like what you see? Visit the ' +\n",
              "          '<a target=\"_blank\" href=https://colab.research.google.com/notebooks/data_table.ipynb>data table notebook</a>'\n",
              "          + ' to learn more about interactive tables.';\n",
              "        element.innerHTML = '';\n",
              "        dataTable['output_type'] = 'display_data';\n",
              "        await google.colab.output.renderOutput(dataTable, element);\n",
              "        const docLink = document.createElement('div');\n",
              "        docLink.innerHTML = docLinkHtml;\n",
              "        element.appendChild(docLink);\n",
              "      }\n",
              "    </script>\n",
              "  </div>\n",
              "\n",
              "\n",
              "<div id=\"df-2d36acf8-8947-470e-9107-6ea7d89be827\">\n",
              "  <button class=\"colab-df-quickchart\" onclick=\"quickchart('df-2d36acf8-8947-470e-9107-6ea7d89be827')\"\n",
              "            title=\"Suggest charts.\"\n",
              "            style=\"display:none;\">\n",
              "\n",
              "<svg xmlns=\"http://www.w3.org/2000/svg\" height=\"24px\"viewBox=\"0 0 24 24\"\n",
              "     width=\"24px\">\n",
              "    <g>\n",
              "        <path d=\"M19 3H5c-1.1 0-2 .9-2 2v14c0 1.1.9 2 2 2h14c1.1 0 2-.9 2-2V5c0-1.1-.9-2-2-2zM9 17H7v-7h2v7zm4 0h-2V7h2v10zm4 0h-2v-4h2v4z\"/>\n",
              "    </g>\n",
              "</svg>\n",
              "  </button>\n",
              "\n",
              "<style>\n",
              "  .colab-df-quickchart {\n",
              "      --bg-color: #E8F0FE;\n",
              "      --fill-color: #1967D2;\n",
              "      --hover-bg-color: #E2EBFA;\n",
              "      --hover-fill-color: #174EA6;\n",
              "      --disabled-fill-color: #AAA;\n",
              "      --disabled-bg-color: #DDD;\n",
              "  }\n",
              "\n",
              "  [theme=dark] .colab-df-quickchart {\n",
              "      --bg-color: #3B4455;\n",
              "      --fill-color: #D2E3FC;\n",
              "      --hover-bg-color: #434B5C;\n",
              "      --hover-fill-color: #FFFFFF;\n",
              "      --disabled-bg-color: #3B4455;\n",
              "      --disabled-fill-color: #666;\n",
              "  }\n",
              "\n",
              "  .colab-df-quickchart {\n",
              "    background-color: var(--bg-color);\n",
              "    border: none;\n",
              "    border-radius: 50%;\n",
              "    cursor: pointer;\n",
              "    display: none;\n",
              "    fill: var(--fill-color);\n",
              "    height: 32px;\n",
              "    padding: 0;\n",
              "    width: 32px;\n",
              "  }\n",
              "\n",
              "  .colab-df-quickchart:hover {\n",
              "    background-color: var(--hover-bg-color);\n",
              "    box-shadow: 0 1px 2px rgba(60, 64, 67, 0.3), 0 1px 3px 1px rgba(60, 64, 67, 0.15);\n",
              "    fill: var(--button-hover-fill-color);\n",
              "  }\n",
              "\n",
              "  .colab-df-quickchart-complete:disabled,\n",
              "  .colab-df-quickchart-complete:disabled:hover {\n",
              "    background-color: var(--disabled-bg-color);\n",
              "    fill: var(--disabled-fill-color);\n",
              "    box-shadow: none;\n",
              "  }\n",
              "\n",
              "  .colab-df-spinner {\n",
              "    border: 2px solid var(--fill-color);\n",
              "    border-color: transparent;\n",
              "    border-bottom-color: var(--fill-color);\n",
              "    animation:\n",
              "      spin 1s steps(1) infinite;\n",
              "  }\n",
              "\n",
              "  @keyframes spin {\n",
              "    0% {\n",
              "      border-color: transparent;\n",
              "      border-bottom-color: var(--fill-color);\n",
              "      border-left-color: var(--fill-color);\n",
              "    }\n",
              "    20% {\n",
              "      border-color: transparent;\n",
              "      border-left-color: var(--fill-color);\n",
              "      border-top-color: var(--fill-color);\n",
              "    }\n",
              "    30% {\n",
              "      border-color: transparent;\n",
              "      border-left-color: var(--fill-color);\n",
              "      border-top-color: var(--fill-color);\n",
              "      border-right-color: var(--fill-color);\n",
              "    }\n",
              "    40% {\n",
              "      border-color: transparent;\n",
              "      border-right-color: var(--fill-color);\n",
              "      border-top-color: var(--fill-color);\n",
              "    }\n",
              "    60% {\n",
              "      border-color: transparent;\n",
              "      border-right-color: var(--fill-color);\n",
              "    }\n",
              "    80% {\n",
              "      border-color: transparent;\n",
              "      border-right-color: var(--fill-color);\n",
              "      border-bottom-color: var(--fill-color);\n",
              "    }\n",
              "    90% {\n",
              "      border-color: transparent;\n",
              "      border-bottom-color: var(--fill-color);\n",
              "    }\n",
              "  }\n",
              "</style>\n",
              "\n",
              "  <script>\n",
              "    async function quickchart(key) {\n",
              "      const quickchartButtonEl =\n",
              "        document.querySelector('#' + key + ' button');\n",
              "      quickchartButtonEl.disabled = true;  // To prevent multiple clicks.\n",
              "      quickchartButtonEl.classList.add('colab-df-spinner');\n",
              "      try {\n",
              "        const charts = await google.colab.kernel.invokeFunction(\n",
              "            'suggestCharts', [key], {});\n",
              "      } catch (error) {\n",
              "        console.error('Error during call to suggestCharts:', error);\n",
              "      }\n",
              "      quickchartButtonEl.classList.remove('colab-df-spinner');\n",
              "      quickchartButtonEl.classList.add('colab-df-quickchart-complete');\n",
              "    }\n",
              "    (() => {\n",
              "      let quickchartButtonEl =\n",
              "        document.querySelector('#df-2d36acf8-8947-470e-9107-6ea7d89be827 button');\n",
              "      quickchartButtonEl.style.display =\n",
              "        google.colab.kernel.accessAllowed ? 'block' : 'none';\n",
              "    })();\n",
              "  </script>\n",
              "</div>\n",
              "    </div>\n",
              "  </div>\n"
            ]
          },
          "metadata": {},
          "execution_count": 24
        }
      ]
    },
    {
      "cell_type": "code",
      "source": [
        "print('Distribution of the Classes in the subsample dataset')\n",
        "print(brcp_data['overall_survival'].value_counts()/len(new_data))\n",
        "\n",
        "sns.countplot(data=new_data, x='overall_survival', label=\"count\")\n",
        "plt.title(' Distributed Classes', fontsize=14)\n",
        "plt.show()"
      ],
      "metadata": {
        "colab": {
          "base_uri": "https://localhost:8080/",
          "height": 542
        },
        "id": "05MwhxsQ2uR6",
        "outputId": "0d2f870c-ce0f-4c80-e087-fa65f88737ff"
      },
      "execution_count": null,
      "outputs": [
        {
          "output_type": "stream",
          "name": "stdout",
          "text": [
            "Distribution of the Classes in the subsample dataset\n",
            "0    0.628099\n",
            "1    0.500000\n",
            "Name: overall_survival, dtype: float64\n"
          ]
        },
        {
          "output_type": "display_data",
          "data": {
            "text/plain": [
              "<Figure size 640x480 with 1 Axes>"
            ],
            "image/png": "[encoded data removed]"
          },
          "metadata": {}
        }
      ]
    },
    {
      "cell_type": "code",
      "source": [
        "new_data['overall_survival'].value_counts()"
      ],
      "metadata": {
        "colab": {
          "base_uri": "https://localhost:8080/"
        },
        "id": "iAL2DQ_L2_-s",
        "outputId": "192f5fd8-d43e-46a5-bda4-0df77b7e2572"
      },
      "execution_count": null,
      "outputs": [
        {
          "output_type": "execute_result",
          "data": {
            "text/plain": [
              "1    484\n",
              "0    484\n",
              "Name: overall_survival, dtype: int64"
            ]
          },
          "metadata": {},
          "execution_count": 27
        }
      ]
    },
    {
      "cell_type": "code",
      "source": [
        "new_data.corr()"
      ],
      "metadata": {
        "colab": {
          "base_uri": "https://localhost:8080/",
          "height": 477
        },
        "id": "KCEROkZ23DbV",
        "outputId": "58eae331-39f1-47f8-dc13-95218357d5ac"
      },
      "execution_count": null,
      "outputs": [
        {
          "output_type": "execute_result",
          "data": {
            "text/plain": [
              "                               age_at_diagnosis  chemotherapy    cohort  \\\n",
              "age_at_diagnosis                       1.000000     -0.401742  0.041218   \n",
              "chemotherapy                          -0.401742      1.000000 -0.234694   \n",
              "cohort                                 0.041218     -0.234694  1.000000   \n",
              "neoplasm_histologic_grade             -0.092722      0.294493  0.006852   \n",
              "hormone_therapy                        0.293918     -0.108994 -0.255846   \n",
              "lymph_nodes_examined_positive          0.030205      0.307097 -0.118163   \n",
              "mutation_count                         0.054549     -0.111336  0.304302   \n",
              "nottingham_prognostic_index           -0.022916      0.461911 -0.098432   \n",
              "overall_survival_months               -0.155496     -0.163482  0.204130   \n",
              "overall_survival                      -0.295638      0.044811 -0.202371   \n",
              "radio_therapy                         -0.072773      0.223587 -0.147869   \n",
              "tumor_size                             0.064744      0.242281 -0.055701   \n",
              "tumor_stage                            0.085856      0.371642 -0.127404   \n",
              "\n",
              "                               neoplasm_histologic_grade  hormone_therapy  \\\n",
              "age_at_diagnosis                               -0.092722         0.293918   \n",
              "chemotherapy                                    0.294493        -0.108994   \n",
              "cohort                                          0.006852        -0.255846   \n",
              "neoplasm_histologic_grade                       1.000000        -0.008539   \n",
              "hormone_therapy                                -0.008539         1.000000   \n",
              "lymph_nodes_examined_positive                   0.160889         0.138987   \n",
              "mutation_count                                  0.035594        -0.150495   \n",
              "nottingham_prognostic_index                     0.719590         0.191279   \n",
              "overall_survival_months                        -0.097073        -0.146313   \n",
              "overall_survival                               -0.076090        -0.029703   \n",
              "radio_therapy                                   0.146661         0.065618   \n",
              "tumor_size                                      0.135393         0.130266   \n",
              "tumor_stage                                     0.170744         0.236648   \n",
              "\n",
              "                               lymph_nodes_examined_positive  mutation_count  \\\n",
              "age_at_diagnosis                                    0.030205        0.054549   \n",
              "chemotherapy                                        0.307097       -0.111336   \n",
              "cohort                                             -0.118163        0.304302   \n",
              "neoplasm_histologic_grade                           0.160889        0.035594   \n",
              "hormone_therapy                                     0.138987       -0.150495   \n",
              "lymph_nodes_examined_positive                       1.000000       -0.067988   \n",
              "mutation_count                                     -0.067988        1.000000   \n",
              "nottingham_prognostic_index                         0.609643       -0.021188   \n",
              "overall_survival_months                            -0.249748        0.068686   \n",
              "overall_survival                                   -0.162765       -0.139385   \n",
              "radio_therapy                                       0.132991       -0.107502   \n",
              "tumor_size                                          0.317809        0.015199   \n",
              "tumor_stage                                         0.449746       -0.045691   \n",
              "\n",
              "                               nottingham_prognostic_index  \\\n",
              "age_at_diagnosis                                 -0.022916   \n",
              "chemotherapy                                      0.461911   \n",
              "cohort                                           -0.098432   \n",
              "neoplasm_histologic_grade                         0.719590   \n",
              "hormone_therapy                                   0.191279   \n",
              "lymph_nodes_examined_positive                     0.609643   \n",
              "mutation_count                                   -0.021188   \n",
              "nottingham_prognostic_index                       1.000000   \n",
              "overall_survival_months                          -0.243093   \n",
              "overall_survival                                 -0.154386   \n",
              "radio_therapy                                     0.217529   \n",
              "tumor_size                                        0.328882   \n",
              "tumor_stage                                       0.566748   \n",
              "\n",
              "                               overall_survival_months  overall_survival  \\\n",
              "age_at_diagnosis                             -0.155496         -0.295638   \n",
              "chemotherapy                                 -0.163482          0.044811   \n",
              "cohort                                        0.204130         -0.202371   \n",
              "neoplasm_histologic_grade                    -0.097073         -0.076090   \n",
              "hormone_therapy                              -0.146313         -0.029703   \n",
              "lymph_nodes_examined_positive                -0.249748         -0.162765   \n",
              "mutation_count                                0.068686         -0.139385   \n",
              "nottingham_prognostic_index                  -0.243093         -0.154386   \n",
              "overall_survival_months                       1.000000          0.404424   \n",
              "overall_survival                              0.404424          1.000000   \n",
              "radio_therapy                                -0.046959          0.106099   \n",
              "tumor_size                                   -0.202676         -0.162342   \n",
              "tumor_stage                                  -0.261463         -0.132058   \n",
              "\n",
              "                               radio_therapy  tumor_size  tumor_stage  \n",
              "age_at_diagnosis                   -0.072773    0.064744     0.085856  \n",
              "chemotherapy                        0.223587    0.242281     0.371642  \n",
              "cohort                             -0.147869   -0.055701    -0.127404  \n",
              "neoplasm_histologic_grade           0.146661    0.135393     0.170744  \n",
              "hormone_therapy                     0.065618    0.130266     0.236648  \n",
              "lymph_nodes_examined_positive       0.132991    0.317809     0.449746  \n",
              "mutation_count                     -0.107502    0.015199    -0.045691  \n",
              "nottingham_prognostic_index         0.217529    0.328882     0.566748  \n",
              "overall_survival_months            -0.046959   -0.202676    -0.261463  \n",
              "overall_survival                    0.106099   -0.162342    -0.132058  \n",
              "radio_therapy                       1.000000    0.067195     0.127047  \n",
              "tumor_size                          0.067195    1.000000     0.520431  \n",
              "tumor_stage                         0.127047    0.520431     1.000000  "
            ],
            "text/html": [
              "\n",
              "  <div id=\"df-db65e2ae-b6d5-4ae7-bfad-d3c31d261143\" class=\"colab-df-container\">\n",
              "    <div>\n",
              "<style scoped>\n",
              "    .dataframe tbody tr th:only-of-type {\n",
              "        vertical-align: middle;\n",
              "    }\n",
              "\n",
              "    .dataframe tbody tr th {\n",
              "        vertical-align: top;\n",
              "    }\n",
              "\n",
              "    .dataframe thead th {\n",
              "        text-align: right;\n",
              "    }\n",
              "</style>\n",
              "<table border=\"1\" class=\"dataframe\">\n",
              "  <thead>\n",
              "    <tr style=\"text-align: right;\">\n",
              "      <th></th>\n",
              "      <th>age_at_diagnosis</th>\n",
              "      <th>chemotherapy</th>\n",
              "      <th>cohort</th>\n",
              "      <th>neoplasm_histologic_grade</th>\n",
              "      <th>hormone_therapy</th>\n",
              "      <th>lymph_nodes_examined_positive</th>\n",
              "      <th>mutation_count</th>\n",
              "      <th>nottingham_prognostic_index</th>\n",
              "      <th>overall_survival_months</th>\n",
              "      <th>overall_survival</th>\n",
              "      <th>radio_therapy</th>\n",
              "      <th>tumor_size</th>\n",
              "      <th>tumor_stage</th>\n",
              "    </tr>\n",
              "  </thead>\n",
              "  <tbody>\n",
              "    <tr>\n",
              "      <th>age_at_diagnosis</th>\n",
              "      <td>1.000000</td>\n",
              "      <td>-0.401742</td>\n",
              "      <td>0.041218</td>\n",
              "      <td>-0.092722</td>\n",
              "      <td>0.293918</td>\n",
              "      <td>0.030205</td>\n",
              "      <td>0.054549</td>\n",
              "      <td>-0.022916</td>\n",
              "      <td>-0.155496</td>\n",
              "      <td>-0.295638</td>\n",
              "      <td>-0.072773</td>\n",
              "      <td>0.064744</td>\n",
              "      <td>0.085856</td>\n",
              "    </tr>\n",
              "    <tr>\n",
              "      <th>chemotherapy</th>\n",
              "      <td>-0.401742</td>\n",
              "      <td>1.000000</td>\n",
              "      <td>-0.234694</td>\n",
              "      <td>0.294493</td>\n",
              "      <td>-0.108994</td>\n",
              "      <td>0.307097</td>\n",
              "      <td>-0.111336</td>\n",
              "      <td>0.461911</td>\n",
              "      <td>-0.163482</td>\n",
              "      <td>0.044811</td>\n",
              "      <td>0.223587</td>\n",
              "      <td>0.242281</td>\n",
              "      <td>0.371642</td>\n",
              "    </tr>\n",
              "    <tr>\n",
              "      <th>cohort</th>\n",
              "      <td>0.041218</td>\n",
              "      <td>-0.234694</td>\n",
              "      <td>1.000000</td>\n",
              "      <td>0.006852</td>\n",
              "      <td>-0.255846</td>\n",
              "      <td>-0.118163</td>\n",
              "      <td>0.304302</td>\n",
              "      <td>-0.098432</td>\n",
              "      <td>0.204130</td>\n",
              "      <td>-0.202371</td>\n",
              "      <td>-0.147869</td>\n",
              "      <td>-0.055701</td>\n",
              "      <td>-0.127404</td>\n",
              "    </tr>\n",
              "    <tr>\n",
              "      <th>neoplasm_histologic_grade</th>\n",
              "      <td>-0.092722</td>\n",
              "      <td>0.294493</td>\n",
              "      <td>0.006852</td>\n",
              "      <td>1.000000</td>\n",
              "      <td>-0.008539</td>\n",
              "      <td>0.160889</td>\n",
              "      <td>0.035594</td>\n",
              "      <td>0.719590</td>\n",
              "      <td>-0.097073</td>\n",
              "      <td>-0.076090</td>\n",
              "      <td>0.146661</td>\n",
              "      <td>0.135393</td>\n",
              "      <td>0.170744</td>\n",
              "    </tr>\n",
              "    <tr>\n",
              "      <th>hormone_therapy</th>\n",
              "      <td>0.293918</td>\n",
              "      <td>-0.108994</td>\n",
              "      <td>-0.255846</td>\n",
              "      <td>-0.008539</td>\n",
              "      <td>1.000000</td>\n",
              "      <td>0.138987</td>\n",
              "      <td>-0.150495</td>\n",
              "      <td>0.191279</td>\n",
              "      <td>-0.146313</td>\n",
              "      <td>-0.029703</td>\n",
              "      <td>0.065618</td>\n",
              "      <td>0.130266</td>\n",
              "      <td>0.236648</td>\n",
              "    </tr>\n",
              "    <tr>\n",
              "      <th>lymph_nodes_examined_positive</th>\n",
              "      <td>0.030205</td>\n",
              "      <td>0.307097</td>\n",
              "      <td>-0.118163</td>\n",
              "      <td>0.160889</td>\n",
              "      <td>0.138987</td>\n",
              "      <td>1.000000</td>\n",
              "      <td>-0.067988</td>\n",
              "      <td>0.609643</td>\n",
              "      <td>-0.249748</td>\n",
              "      <td>-0.162765</td>\n",
              "      <td>0.132991</td>\n",
              "      <td>0.317809</td>\n",
              "      <td>0.449746</td>\n",
              "    </tr>\n",
              "    <tr>\n",
              "      <th>mutation_count</th>\n",
              "      <td>0.054549</td>\n",
              "      <td>-0.111336</td>\n",
              "      <td>0.304302</td>\n",
              "      <td>0.035594</td>\n",
              "      <td>-0.150495</td>\n",
              "      <td>-0.067988</td>\n",
              "      <td>1.000000</td>\n",
              "      <td>-0.021188</td>\n",
              "      <td>0.068686</td>\n",
              "      <td>-0.139385</td>\n",
              "      <td>-0.107502</td>\n",
              "      <td>0.015199</td>\n",
              "      <td>-0.045691</td>\n",
              "    </tr>\n",
              "    <tr>\n",
              "      <th>nottingham_prognostic_index</th>\n",
              "      <td>-0.022916</td>\n",
              "      <td>0.461911</td>\n",
              "      <td>-0.098432</td>\n",
              "      <td>0.719590</td>\n",
              "      <td>0.191279</td>\n",
              "      <td>0.609643</td>\n",
              "      <td>-0.021188</td>\n",
              "      <td>1.000000</td>\n",
              "      <td>-0.243093</td>\n",
              "      <td>-0.154386</td>\n",
              "      <td>0.217529</td>\n",
              "      <td>0.328882</td>\n",
              "      <td>0.566748</td>\n",
              "    </tr>\n",
              "    <tr>\n",
              "      <th>overall_survival_months</th>\n",
              "      <td>-0.155496</td>\n",
              "      <td>-0.163482</td>\n",
              "      <td>0.204130</td>\n",
              "      <td>-0.097073</td>\n",
              "      <td>-0.146313</td>\n",
              "      <td>-0.249748</td>\n",
              "      <td>0.068686</td>\n",
              "      <td>-0.243093</td>\n",
              "      <td>1.000000</td>\n",
              "      <td>0.404424</td>\n",
              "      <td>-0.046959</td>\n",
              "      <td>-0.202676</td>\n",
              "      <td>-0.261463</td>\n",
              "    </tr>\n",
              "    <tr>\n",
              "      <th>overall_survival</th>\n",
              "      <td>-0.295638</td>\n",
              "      <td>0.044811</td>\n",
              "      <td>-0.202371</td>\n",
              "      <td>-0.076090</td>\n",
              "      <td>-0.029703</td>\n",
              "      <td>-0.162765</td>\n",
              "      <td>-0.139385</td>\n",
              "      <td>-0.154386</td>\n",
              "      <td>0.404424</td>\n",
              "      <td>1.000000</td>\n",
              "      <td>0.106099</td>\n",
              "      <td>-0.162342</td>\n",
              "      <td>-0.132058</td>\n",
              "    </tr>\n",
              "    <tr>\n",
              "      <th>radio_therapy</th>\n",
              "      <td>-0.072773</td>\n",
              "      <td>0.223587</td>\n",
              "      <td>-0.147869</td>\n",
              "      <td>0.146661</td>\n",
              "      <td>0.065618</td>\n",
              "      <td>0.132991</td>\n",
              "      <td>-0.107502</td>\n",
              "      <td>0.217529</td>\n",
              "      <td>-0.046959</td>\n",
              "      <td>0.106099</td>\n",
              "      <td>1.000000</td>\n",
              "      <td>0.067195</td>\n",
              "      <td>0.127047</td>\n",
              "    </tr>\n",
              "    <tr>\n",
              "      <th>tumor_size</th>\n",
              "      <td>0.064744</td>\n",
              "      <td>0.242281</td>\n",
              "      <td>-0.055701</td>\n",
              "      <td>0.135393</td>\n",
              "      <td>0.130266</td>\n",
              "      <td>0.317809</td>\n",
              "      <td>0.015199</td>\n",
              "      <td>0.328882</td>\n",
              "      <td>-0.202676</td>\n",
              "      <td>-0.162342</td>\n",
              "      <td>0.067195</td>\n",
              "      <td>1.000000</td>\n",
              "      <td>0.520431</td>\n",
              "    </tr>\n",
              "    <tr>\n",
              "      <th>tumor_stage</th>\n",
              "      <td>0.085856</td>\n",
              "      <td>0.371642</td>\n",
              "      <td>-0.127404</td>\n",
              "      <td>0.170744</td>\n",
              "      <td>0.236648</td>\n",
              "      <td>0.449746</td>\n",
              "      <td>-0.045691</td>\n",
              "      <td>0.566748</td>\n",
              "      <td>-0.261463</td>\n",
              "      <td>-0.132058</td>\n",
              "      <td>0.127047</td>\n",
              "      <td>0.520431</td>\n",
              "      <td>1.000000</td>\n",
              "    </tr>\n",
              "  </tbody>\n",
              "</table>\n",
              "</div>\n",
              "    <div class=\"colab-df-buttons\">\n",
              "\n",
              "  <div class=\"colab-df-container\">\n",
              "    <button class=\"colab-df-convert\" onclick=\"convertToInteractive('df-db65e2ae-b6d5-4ae7-bfad-d3c31d261143')\"\n",
              "            title=\"Convert this dataframe to an interactive table.\"\n",
              "            style=\"display:none;\">\n",
              "\n",
              "  <svg xmlns=\"http://www.w3.org/2000/svg\" height=\"24px\" viewBox=\"0 -960 960 960\">\n",
              "    <path d=\"M120-120v-720h720v720H120Zm60-500h600v-160H180v160Zm220 220h160v-160H400v160Zm0 220h160v-160H400v160ZM180-400h160v-160H180v160Zm440 0h160v-160H620v160ZM180-180h160v-160H180v160Zm440 0h160v-160H620v160Z\"/>\n",
              "  </svg>\n",
              "    </button>\n",
              "\n",
              "  <style>\n",
              "    .colab-df-container {\n",
              "      display:flex;\n",
              "      gap: 12px;\n",
              "    }\n",
              "\n",
              "    .colab-df-convert {\n",
              "      background-color: #E8F0FE;\n",
              "      border: none;\n",
              "      border-radius: 50%;\n",
              "      cursor: pointer;\n",
              "      display: none;\n",
              "      fill: #1967D2;\n",
              "      height: 32px;\n",
              "      padding: 0 0 0 0;\n",
              "      width: 32px;\n",
              "    }\n",
              "\n",
              "    .colab-df-convert:hover {\n",
              "      background-color: #E2EBFA;\n",
              "      box-shadow: 0px 1px 2px rgba(60, 64, 67, 0.3), 0px 1px 3px 1px rgba(60, 64, 67, 0.15);\n",
              "      fill: #174EA6;\n",
              "    }\n",
              "\n",
              "    .colab-df-buttons div {\n",
              "      margin-bottom: 4px;\n",
              "    }\n",
              "\n",
              "    [theme=dark] .colab-df-convert {\n",
              "      background-color: #3B4455;\n",
              "      fill: #D2E3FC;\n",
              "    }\n",
              "\n",
              "    [theme=dark] .colab-df-convert:hover {\n",
              "      background-color: #434B5C;\n",
              "      box-shadow: 0px 1px 3px 1px rgba(0, 0, 0, 0.15);\n",
              "      filter: drop-shadow(0px 1px 2px rgba(0, 0, 0, 0.3));\n",
              "      fill: #FFFFFF;\n",
              "    }\n",
              "  </style>\n",
              "\n",
              "    <script>\n",
              "      const buttonEl =\n",
              "        document.querySelector('#df-db65e2ae-b6d5-4ae7-bfad-d3c31d261143 button.colab-df-convert');\n",
              "      buttonEl.style.display =\n",
              "        google.colab.kernel.accessAllowed ? 'block' : 'none';\n",
              "\n",
              "      async function convertToInteractive(key) {\n",
              "        const element = document.querySelector('#df-db65e2ae-b6d5-4ae7-bfad-d3c31d261143');\n",
              "        const dataTable =\n",
              "          await google.colab.kernel.invokeFunction('convertToInteractive',\n",
              "                                                    [key], {});\n",
              "        if (!dataTable) return;\n",
              "\n",
              "        const docLinkHtml = 'Like what you see? Visit the ' +\n",
              "          '<a target=\"_blank\" href=https://colab.research.google.com/notebooks/data_table.ipynb>data table notebook</a>'\n",
              "          + ' to learn more about interactive tables.';\n",
              "        element.innerHTML = '';\n",
              "        dataTable['output_type'] = 'display_data';\n",
              "        await google.colab.output.renderOutput(dataTable, element);\n",
              "        const docLink = document.createElement('div');\n",
              "        docLink.innerHTML = docLinkHtml;\n",
              "        element.appendChild(docLink);\n",
              "      }\n",
              "    </script>\n",
              "  </div>\n",
              "\n",
              "\n",
              "<div id=\"df-a42d4611-11b9-408f-ae8a-ca8ace032127\">\n",
              "  <button class=\"colab-df-quickchart\" onclick=\"quickchart('df-a42d4611-11b9-408f-ae8a-ca8ace032127')\"\n",
              "            title=\"Suggest charts.\"\n",
              "            style=\"display:none;\">\n",
              "\n",
              "<svg xmlns=\"http://www.w3.org/2000/svg\" height=\"24px\"viewBox=\"0 0 24 24\"\n",
              "     width=\"24px\">\n",
              "    <g>\n",
              "        <path d=\"M19 3H5c-1.1 0-2 .9-2 2v14c0 1.1.9 2 2 2h14c1.1 0 2-.9 2-2V5c0-1.1-.9-2-2-2zM9 17H7v-7h2v7zm4 0h-2V7h2v10zm4 0h-2v-4h2v4z\"/>\n",
              "    </g>\n",
              "</svg>\n",
              "  </button>\n",
              "\n",
              "<style>\n",
              "  .colab-df-quickchart {\n",
              "      --bg-color: #E8F0FE;\n",
              "      --fill-color: #1967D2;\n",
              "      --hover-bg-color: #E2EBFA;\n",
              "      --hover-fill-color: #174EA6;\n",
              "      --disabled-fill-color: #AAA;\n",
              "      --disabled-bg-color: #DDD;\n",
              "  }\n",
              "\n",
              "  [theme=dark] .colab-df-quickchart {\n",
              "      --bg-color: #3B4455;\n",
              "      --fill-color: #D2E3FC;\n",
              "      --hover-bg-color: #434B5C;\n",
              "      --hover-fill-color: #FFFFFF;\n",
              "      --disabled-bg-color: #3B4455;\n",
              "      --disabled-fill-color: #666;\n",
              "  }\n",
              "\n",
              "  .colab-df-quickchart {\n",
              "    background-color: var(--bg-color);\n",
              "    border: none;\n",
              "    border-radius: 50%;\n",
              "    cursor: pointer;\n",
              "    display: none;\n",
              "    fill: var(--fill-color);\n",
              "    height: 32px;\n",
              "    padding: 0;\n",
              "    width: 32px;\n",
              "  }\n",
              "\n",
              "  .colab-df-quickchart:hover {\n",
              "    background-color: var(--hover-bg-color);\n",
              "    box-shadow: 0 1px 2px rgba(60, 64, 67, 0.3), 0 1px 3px 1px rgba(60, 64, 67, 0.15);\n",
              "    fill: var(--button-hover-fill-color);\n",
              "  }\n",
              "\n",
              "  .colab-df-quickchart-complete:disabled,\n",
              "  .colab-df-quickchart-complete:disabled:hover {\n",
              "    background-color: var(--disabled-bg-color);\n",
              "    fill: var(--disabled-fill-color);\n",
              "    box-shadow: none;\n",
              "  }\n",
              "\n",
              "  .colab-df-spinner {\n",
              "    border: 2px solid var(--fill-color);\n",
              "    border-color: transparent;\n",
              "    border-bottom-color: var(--fill-color);\n",
              "    animation:\n",
              "      spin 1s steps(1) infinite;\n",
              "  }\n",
              "\n",
              "  @keyframes spin {\n",
              "    0% {\n",
              "      border-color: transparent;\n",
              "      border-bottom-color: var(--fill-color);\n",
              "      border-left-color: var(--fill-color);\n",
              "    }\n",
              "    20% {\n",
              "      border-color: transparent;\n",
              "      border-left-color: var(--fill-color);\n",
              "      border-top-color: var(--fill-color);\n",
              "    }\n",
              "    30% {\n",
              "      border-color: transparent;\n",
              "      border-left-color: var(--fill-color);\n",
              "      border-top-color: var(--fill-color);\n",
              "      border-right-color: var(--fill-color);\n",
              "    }\n",
              "    40% {\n",
              "      border-color: transparent;\n",
              "      border-right-color: var(--fill-color);\n",
              "      border-top-color: var(--fill-color);\n",
              "    }\n",
              "    60% {\n",
              "      border-color: transparent;\n",
              "      border-right-color: var(--fill-color);\n",
              "    }\n",
              "    80% {\n",
              "      border-color: transparent;\n",
              "      border-right-color: var(--fill-color);\n",
              "      border-bottom-color: var(--fill-color);\n",
              "    }\n",
              "    90% {\n",
              "      border-color: transparent;\n",
              "      border-bottom-color: var(--fill-color);\n",
              "    }\n",
              "  }\n",
              "</style>\n",
              "\n",
              "  <script>\n",
              "    async function quickchart(key) {\n",
              "      const quickchartButtonEl =\n",
              "        document.querySelector('#' + key + ' button');\n",
              "      quickchartButtonEl.disabled = true;  // To prevent multiple clicks.\n",
              "      quickchartButtonEl.classList.add('colab-df-spinner');\n",
              "      try {\n",
              "        const charts = await google.colab.kernel.invokeFunction(\n",
              "            'suggestCharts', [key], {});\n",
              "      } catch (error) {\n",
              "        console.error('Error during call to suggestCharts:', error);\n",
              "      }\n",
              "      quickchartButtonEl.classList.remove('colab-df-spinner');\n",
              "      quickchartButtonEl.classList.add('colab-df-quickchart-complete');\n",
              "    }\n",
              "    (() => {\n",
              "      let quickchartButtonEl =\n",
              "        document.querySelector('#df-a42d4611-11b9-408f-ae8a-ca8ace032127 button');\n",
              "      quickchartButtonEl.style.display =\n",
              "        google.colab.kernel.accessAllowed ? 'block' : 'none';\n",
              "    })();\n",
              "  </script>\n",
              "</div>\n",
              "    </div>\n",
              "  </div>\n"
            ]
          },
          "metadata": {},
          "execution_count": 28
        }
      ]
    },
    {
      "cell_type": "code",
      "source": [
        "# Find correaltion between features\n",
        "corrMat = new_data.corr().values\n",
        "plt.hist(corrMat.flatten(),20)\n",
        "plt.xlabel('Pearson correlation coefficient')\n",
        "plt.ylabel('Count')"
      ],
      "metadata": {
        "colab": {
          "base_uri": "https://localhost:8080/",
          "height": 466
        },
        "id": "KEfwZsH33H70",
        "outputId": "75a328ae-34f7-434a-ce8a-fd92e9862cd1"
      },
      "execution_count": null,
      "outputs": [
        {
          "output_type": "execute_result",
          "data": {
            "text/plain": [
              "Text(0, 0.5, 'Count')"
            ]
          },
          "metadata": {},
          "execution_count": 29
        },
        {
          "output_type": "display_data",
          "data": {
            "text/plain": [
              "<Figure size 640x480 with 1 Axes>"
            ],
            "image/png": "[encoded data removed]"
          },
          "metadata": {}
        }
      ]
    },
    {
      "cell_type": "code",
      "source": [
        "q1,q2 = np.percentile(corrMat.flatten(), [25 ,75])\n",
        "print(q1,q2)"
      ],
      "metadata": {
        "colab": {
          "base_uri": "https://localhost:8080/"
        },
        "id": "p4yhNnoL3Ub0",
        "outputId": "e4331561-bfa5-4885-e619-4fd1f8f307fd"
      },
      "execution_count": null,
      "outputs": [
        {
          "output_type": "stream",
          "name": "stdout",
          "text": [
            "-0.1113361953514796 0.24228128459452825\n"
          ]
        }
      ]
    },
    {
      "cell_type": "code",
      "source": [
        "fig, axs = plt.subplots(figsize = (10, 5))\n",
        "sns.heatmap(new_data.corr())\n",
        "plt.title('Correlation between all Features')\n",
        "plt.show()"
      ],
      "metadata": {
        "colab": {
          "base_uri": "https://localhost:8080/",
          "height": 683
        },
        "id": "DDO-A6Wk3Zuj",
        "outputId": "2f272515-04f6-464d-fb26-2ae58ad5aa87"
      },
      "execution_count": null,
      "outputs": [
        {
          "output_type": "display_data",
          "data": {
            "text/plain": [
              "<Figure size 1000x500 with 2 Axes>"
            ],
            "image/png": "[encoded data removed]"
          },
          "metadata": {}
        }
      ]
    },
    {
      "cell_type": "code",
      "source": [
        "new_data.info()"
      ],
      "metadata": {
        "colab": {
          "base_uri": "https://localhost:8080/"
        },
        "id": "vihlOW8T3fnJ",
        "outputId": "c305d88d-c818-4126-f89b-bd55e3b9394a"
      },
      "execution_count": null,
      "outputs": [
        {
          "output_type": "stream",
          "name": "stdout",
          "text": [
            "<class 'pandas.core.frame.DataFrame'>\n",
            "Int64Index: 968 entries, 151 to 1392\n",
            "Data columns (total 30 columns):\n",
            " #   Column                          Non-Null Count  Dtype  \n",
            "---  ------                          --------------  -----  \n",
            " 0   age_at_diagnosis                968 non-null    float64\n",
            " 1   type_of_breast_surgery          968 non-null    object \n",
            " 2   cancer_type                     968 non-null    object \n",
            " 3   cancer_type_detailed            968 non-null    object \n",
            " 4   cellularity                     968 non-null    object \n",
            " 5   chemotherapy                    968 non-null    int64  \n",
            " 6   pam50_+_claudin-low_subtype     968 non-null    object \n",
            " 7   cohort                          968 non-null    int64  \n",
            " 8   er_status_measured_by_ihc       968 non-null    object \n",
            " 9   er_status                       968 non-null    object \n",
            " 10  neoplasm_histologic_grade       968 non-null    float64\n",
            " 11  her2_status_measured_by_snp6    968 non-null    object \n",
            " 12  her2_status                     968 non-null    object \n",
            " 13  tumor_other_histologic_subtype  968 non-null    object \n",
            " 14  hormone_therapy                 968 non-null    int64  \n",
            " 15  inferred_menopausal_state       968 non-null    object \n",
            " 16  integrative_cluster             968 non-null    object \n",
            " 17  primary_tumor_laterality        968 non-null    object \n",
            " 18  lymph_nodes_examined_positive   968 non-null    int64  \n",
            " 19  mutation_count                  968 non-null    float64\n",
            " 20  nottingham_prognostic_index     968 non-null    float64\n",
            " 21  oncotree_code                   968 non-null    object \n",
            " 22  overall_survival_months         968 non-null    float64\n",
            " 23  overall_survival                968 non-null    int64  \n",
            " 24  pr_status                       968 non-null    object \n",
            " 25  radio_therapy                   968 non-null    int64  \n",
            " 26  3-gene_classifier_subtype       968 non-null    object \n",
            " 27  tumor_size                      968 non-null    float64\n",
            " 28  tumor_stage                     968 non-null    float64\n",
            " 29  death_from_cancer               968 non-null    object \n",
            "dtypes: float64(7), int64(6), object(17)\n",
            "memory usage: 234.4+ KB\n"
          ]
        }
      ]
    },
    {
      "cell_type": "code",
      "source": [
        "new_data.describe"
      ],
      "metadata": {
        "colab": {
          "base_uri": "https://localhost:8080/"
        },
        "id": "PedgflWn3jWq",
        "outputId": "59fcf021-af53-4fe0-a175-1cb44992c5d4"
      },
      "execution_count": null,
      "outputs": [
        {
          "output_type": "execute_result",
          "data": {
            "text/plain": [
              "<bound method NDFrame.describe of       age_at_diagnosis type_of_breast_surgery    cancer_type  \\\n",
              "151              62.70      BREAST CONSERVING  Breast Cancer   \n",
              "1618             71.22             MASTECTOMY  Breast Cancer   \n",
              "394              33.80             MASTECTOMY  Breast Cancer   \n",
              "887              67.03      BREAST CONSERVING  Breast Cancer   \n",
              "1282             71.40             MASTECTOMY  Breast Cancer   \n",
              "...                ...                    ...            ...   \n",
              "447              73.46             MASTECTOMY  Breast Cancer   \n",
              "1621             75.62             MASTECTOMY  Breast Cancer   \n",
              "76               62.72      BREAST CONSERVING  Breast Cancer   \n",
              "539              50.38             MASTECTOMY  Breast Cancer   \n",
              "1392             72.23             MASTECTOMY  Breast Cancer   \n",
              "\n",
              "                           cancer_type_detailed cellularity  chemotherapy  \\\n",
              "151            Breast Invasive Ductal Carcinoma        High             0   \n",
              "1618  Breast Mixed Ductal and Lobular Carcinoma        High             0   \n",
              "394            Breast Invasive Ductal Carcinoma    Moderate             1   \n",
              "887   Breast Mixed Ductal and Lobular Carcinoma    Moderate             0   \n",
              "1282  Breast Mixed Ductal and Lobular Carcinoma        High             0   \n",
              "...                                         ...         ...           ...   \n",
              "447            Breast Invasive Ductal Carcinoma        High             0   \n",
              "1621           Breast Invasive Ductal Carcinoma        High             0   \n",
              "76             Breast Invasive Ductal Carcinoma    Moderate             0   \n",
              "539            Breast Invasive Ductal Carcinoma         Low             0   \n",
              "1392  Breast Mixed Ductal and Lobular Carcinoma    Moderate             0   \n",
              "\n",
              "     pam50_+_claudin-low_subtype  cohort er_status_measured_by_ihc er_status  \\\n",
              "151                         LumA       1                   Positve  Positive   \n",
              "1618                        LumA       5                   Positve  Positive   \n",
              "394                         LumA       1                   Positve  Positive   \n",
              "887                         LumA       3                   Positve  Positive   \n",
              "1282                        LumA       3                   Positve  Positive   \n",
              "...                          ...     ...                       ...       ...   \n",
              "447                         Her2       1                   Positve  Negative   \n",
              "1621                       Basal       5                  Negative  Negative   \n",
              "76                   claudin-low       1                   Positve  Positive   \n",
              "539                         Her2       2                   Positve  Positive   \n",
              "1392                        LumA       3                   Positve  Positive   \n",
              "\n",
              "      ...  nottingham_prognostic_index oncotree_code overall_survival_months  \\\n",
              "151   ...                        4.022           IDC               86.133333   \n",
              "1618  ...                        5.060          MDLC               85.000000   \n",
              "394   ...                        5.080           IDC               79.366667   \n",
              "887   ...                        5.050          MDLC              318.200000   \n",
              "1282  ...                        3.060          MDLC              153.300000   \n",
              "...   ...                          ...           ...                     ...   \n",
              "447   ...                        6.120           IDC               19.733333   \n",
              "1621  ...                        4.040           IDC              105.200000   \n",
              "76    ...                        2.018           IDC               59.800000   \n",
              "539   ...                        4.070           IDC              110.766667   \n",
              "1392  ...                        6.040          MDLC               34.300000   \n",
              "\n",
              "     overall_survival  pr_status radio_therapy 3-gene_classifier_subtype  \\\n",
              "151                 1   Positive             1     ER+/HER2- High Prolif   \n",
              "1618                0   Positive             0      ER+/HER2- Low Prolif   \n",
              "394                 0   Positive             1     ER+/HER2- High Prolif   \n",
              "887                 1   Positive             1      ER+/HER2- Low Prolif   \n",
              "1282                0   Negative             0      ER+/HER2- Low Prolif   \n",
              "...               ...        ...           ...                       ...   \n",
              "447                 0   Negative             1                 ER-/HER2-   \n",
              "1621                0   Negative             0                 ER-/HER2-   \n",
              "76                  1   Negative             1      ER+/HER2- Low Prolif   \n",
              "539                 0   Positive             0     ER+/HER2- High Prolif   \n",
              "1392                0   Negative             1      ER+/HER2- Low Prolif   \n",
              "\n",
              "     tumor_size  tumor_stage     death_from_cancer  \n",
              "151        11.0          1.0                Living  \n",
              "1618       30.0          2.0  Died of Other Causes  \n",
              "394        40.0          2.0       Died of Disease  \n",
              "887        25.0          2.0                Living  \n",
              "1282       30.0          2.0  Died of Other Causes  \n",
              "...         ...          ...                   ...  \n",
              "447        60.0          3.0  Died of Other Causes  \n",
              "1621       20.0          1.0  Died of Other Causes  \n",
              "76          9.0          1.0                Living  \n",
              "539        35.0          2.0       Died of Disease  \n",
              "1392       20.0          3.0  Died of Other Causes  \n",
              "\n",
              "[968 rows x 30 columns]>"
            ]
          },
          "metadata": {},
          "execution_count": 33
        }
      ]
    },
    {
      "cell_type": "code",
      "source": [
        "new_data.shape"
      ],
      "metadata": {
        "colab": {
          "base_uri": "https://localhost:8080/"
        },
        "id": "VcJ1Uc_73nie",
        "outputId": "a692f30e-36f7-4622-bf15-952f7c5d3871"
      },
      "execution_count": null,
      "outputs": [
        {
          "output_type": "execute_result",
          "data": {
            "text/plain": [
              "(968, 30)"
            ]
          },
          "metadata": {},
          "execution_count": 34
        }
      ]
    },
    {
      "cell_type": "code",
      "source": [
        "def mydistplot(variable, data):\n",
        "    labelsize = 12\n",
        "    plt.rc('font', family='serif')\n",
        "    plt.rc('xtick', labelsize=labelsize)\n",
        "    plt.rc('ytick', labelsize=labelsize)\n",
        "    plt.rc('axes', labelsize=labelsize)\n",
        "\n",
        "    (fig, axs) = plt.subplots(1, 1)\n",
        "    plt.subplots_adjust(hspace=.3)\n",
        "    class_1 = data[data['overall_survival'] == 1][variable]\n",
        "    class_2 = data[data['overall_survival'] == 0][variable]\n",
        "    sns.distplot(class_1, label='Survived', color='k', ax=axs, norm_hist=True)\n",
        "    sns.distplot(class_2, label='Died', color='r', ax=axs, norm_hist=True)\n",
        "    axs.set_xlabel(variable)\n",
        "    axs.set_ylabel('Density')\n",
        "    axs.legend(loc=2, prop={'size': 12})\n",
        "    plt.show()"
      ],
      "metadata": {
        "id": "m6xVV_OE3rd0"
      },
      "execution_count": null,
      "outputs": []
    },
    {
      "cell_type": "code",
      "source": [
        "fig, ax = plt.subplots(ncols=3, figsize=(14,2), sharey=True)\n",
        "color = 'Spectral'\n",
        "two_colors = [ sns.color_palette(color)[0], sns.color_palette(color)[5]]\n",
        "\n",
        "sns.boxplot(x='age_at_diagnosis', y='overall_survival', orient='h', data=brcp_data, ax=ax[0], palette = two_colors, saturation=0.90)\n",
        "sns.boxplot(x='tumor_size', y='overall_survival', orient='h', data=brcp_data, ax=ax[1], palette = two_colors, saturation=0.90)\n",
        "sns.boxplot(x='lymph_nodes_examined_positive', y='overall_survival', orient='h', data=brcp_data, ax=ax[2], palette = two_colors, saturation=0.90)\n",
        "\n",
        "fig.suptitle('Box plot of Continuous Attributes', fontsize = 18)\n",
        "plt.yticks([-0.5, 0, 1, 1.5], ['','Died', 'Survived',''])\n",
        "ax[0].set_xlabel('Age in Year')\n",
        "ax[0].set_ylabel('Survive (yes/no)')\n",
        "\n",
        "ax[1].set_xlabel('Tumour diameter in (mm)')\n",
        "ax[1].set_ylabel('')\n",
        "\n",
        "ax[2].set_xlabel('Number of positive lymph nodes')\n",
        "ax[2].set_ylabel('')\n",
        "\n",
        "plt.show()"
      ],
      "metadata": {
        "colab": {
          "base_uri": "https://localhost:8080/",
          "height": 238
        },
        "id": "kmF3VQpp3y3U",
        "outputId": "aef11e6b-b38e-4dce-e6bf-e967263567be"
      },
      "execution_count": null,
      "outputs": [
        {
          "output_type": "display_data",
          "data": {
            "text/plain": [
              "<Figure size 1400x200 with 3 Axes>"
            ],
            "image/png": "[encoded data removed]"
          },
          "metadata": {}
        }
      ]
    },
    {
      "cell_type": "code",
      "source": [
        "# therapies\n",
        "\n",
        "chemo = new_data[(new_data['chemotherapy']==1) & (new_data['hormone_therapy']==0) & (new_data['radio_therapy']==0)]\n",
        "hormone = new_data[(new_data['chemotherapy']==0) & (new_data['hormone_therapy']==1) & (new_data['radio_therapy']==0)]\n",
        "radio = new_data[(new_data['chemotherapy']==0) & (new_data['hormone_therapy']==0) & (new_data['radio_therapy']==1)]"
      ],
      "metadata": {
        "id": "auTrvjaC31Dj"
      },
      "execution_count": null,
      "outputs": []
    },
    {
      "cell_type": "code",
      "source": [
        "c = chemo['overall_survival'].value_counts()\n",
        "h = hormone['overall_survival'].value_counts()\n",
        "r = radio['overall_survival'].value_counts()\n",
        "\n",
        "print('Success rate of chemo:{} out of {} Trials'.format(c[1]/sum(c),sum(c)))\n",
        "print('Success rate of hormone therapy:{}out of {} Trials'.format(h[1]/sum(h),sum(h)))\n",
        "print('Success rate of radio therapy:{} out of {} Trials'.format(r[1]/sum(r),sum(r)))"
      ],
      "metadata": {
        "colab": {
          "base_uri": "https://localhost:8080/"
        },
        "id": "q-S460yG35n5",
        "outputId": "0e23dd17-2017-4b4c-f915-669dd7d3ae76"
      },
      "execution_count": null,
      "outputs": [
        {
          "output_type": "stream",
          "name": "stdout",
          "text": [
            "Success rate of chemo:0.5384615384615384 out of 13 Trials\n",
            "Success rate of hormone therapy:0.3803680981595092out of 163 Trials\n",
            "Success rate of radio therapy:0.581081081081081 out of 148 Trials\n"
          ]
        }
      ]
    },
    {
      "cell_type": "code",
      "source": [
        "chemo_hormone = new_data[(new_data['chemotherapy']==1) & (new_data['hormone_therapy']==1) & (new_data['radio_therapy']==0)]\n",
        "hormone_radio = new_data[(new_data['chemotherapy']==0) & (new_data['hormone_therapy']==1) & (new_data['radio_therapy']==1)]\n",
        "chemo_radio = new_data[(new_data['chemotherapy']==1) & (new_data['hormone_therapy']==0) & (new_data['radio_therapy']==1)]\n",
        "\n",
        "chemo_hormone_radio = new_data[(new_data['chemotherapy']==1) & (new_data['hormone_therapy']==1) & (new_data['radio_therapy']==1)]\n",
        "\n",
        "ch = chemo_hormone['overall_survival'].value_counts()\n",
        "hr = hormone_radio['overall_survival'].value_counts()\n",
        "cr = chemo_radio['overall_survival'].value_counts()\n",
        "rch = chemo_hormone_radio['overall_survival'].value_counts()\n",
        "\n",
        "print('Success rate of chemo and hormone:{} out of {} Trials'.format(ch[1]/sum(ch),sum(ch)))\n",
        "print('Success rate of hormone and radio therapy:{}out of {} Trials'.format(hr[1]/sum(hr),sum(hr)))\n",
        "print('Success rate of chemo and radio therapy:{} out of {} Trials'.format(cr[1]/sum(cr),sum(cr)))\n",
        "print('Success rate of chemo, hormone, and radio therapy:{} out of {} Trials'.format(rch[1]/sum(rch),sum(rch)))"
      ],
      "metadata": {
        "colab": {
          "base_uri": "https://localhost:8080/"
        },
        "id": "jpLTRRVG396e",
        "outputId": "f068e29d-c257-455b-d6aa-2b87ebca3864"
      },
      "execution_count": null,
      "outputs": [
        {
          "output_type": "stream",
          "name": "stdout",
          "text": [
            "Success rate of chemo and hormone:0.5714285714285714 out of 14 Trials\n",
            "Success rate of hormone and radio therapy:0.514018691588785out of 321 Trials\n",
            "Success rate of chemo and radio therapy:0.5054945054945055 out of 91 Trials\n",
            "Success rate of chemo, hormone, and radio therapy:0.5729166666666666 out of 96 Trials\n"
          ]
        }
      ]
    },
    {
      "cell_type": "markdown",
      "source": [
        "# OUTLIERS\n"
      ],
      "metadata": {
        "id": "S_WAXBrB4Id7"
      }
    },
    {
      "cell_type": "code",
      "source": [
        "new_data.shape"
      ],
      "metadata": {
        "colab": {
          "base_uri": "https://localhost:8080/"
        },
        "id": "lF_RUVrO4OpG",
        "outputId": "007ca84b-43ae-46ff-9575-3f8198f4ea1c"
      },
      "execution_count": null,
      "outputs": [
        {
          "output_type": "execute_result",
          "data": {
            "text/plain": [
              "(968, 30)"
            ]
          },
          "metadata": {},
          "execution_count": 40
        }
      ]
    },
    {
      "cell_type": "code",
      "source": [
        "numericalFeats = new_data.select_dtypes('number').columns\n",
        "categoricalFeats = new_data.select_dtypes('object').columns"
      ],
      "metadata": {
        "id": "bZ3oDcRU4UFH"
      },
      "execution_count": null,
      "outputs": []
    },
    {
      "cell_type": "code",
      "source": [
        "numdata = new_data[numericalFeats]"
      ],
      "metadata": {
        "id": "F4K7pYGa4XmP"
      },
      "execution_count": null,
      "outputs": []
    },
    {
      "cell_type": "code",
      "source": [
        "numdata = numdata.fillna(numdata.mean())"
      ],
      "metadata": {
        "id": "kMewvu8h4a32"
      },
      "execution_count": null,
      "outputs": []
    },
    {
      "cell_type": "code",
      "source": [
        "numdata.describe()"
      ],
      "metadata": {
        "colab": {
          "base_uri": "https://localhost:8080/",
          "height": 320
        },
        "id": "ycM7U9C-4d9G",
        "outputId": "0075678c-45c1-419c-e51f-d87d6424d09a"
      },
      "execution_count": null,
      "outputs": [
        {
          "output_type": "execute_result",
          "data": {
            "text/plain": [
              "       age_at_diagnosis  chemotherapy      cohort  neoplasm_histologic_grade  \\\n",
              "count        968.000000    968.000000  968.000000                 968.000000   \n",
              "mean          59.864401      0.221074    2.205579                   2.436983   \n",
              "std           13.014290      0.415185    0.955088                   0.638441   \n",
              "min           21.930000      0.000000    1.000000                   1.000000   \n",
              "25%           50.315000      0.000000    1.000000                   2.000000   \n",
              "50%           60.320000      0.000000    2.000000                   3.000000   \n",
              "75%           69.312500      0.000000    3.000000                   3.000000   \n",
              "max           96.290000      1.000000    5.000000                   3.000000   \n",
              "\n",
              "       hormone_therapy  lymph_nodes_examined_positive  mutation_count  \\\n",
              "count       968.000000                     968.000000      968.000000   \n",
              "mean          0.613636                       1.796488        5.465909   \n",
              "std           0.487167                       3.816487        3.818920   \n",
              "min           0.000000                       0.000000        1.000000   \n",
              "25%           0.000000                       0.000000        3.000000   \n",
              "50%           1.000000                       0.000000        5.000000   \n",
              "75%           1.000000                       2.000000        7.000000   \n",
              "max           1.000000                      41.000000       46.000000   \n",
              "\n",
              "       nottingham_prognostic_index  overall_survival_months  overall_survival  \\\n",
              "count                   968.000000               968.000000        968.000000   \n",
              "mean                      4.090077               131.682128          0.500000   \n",
              "std                       1.048632                77.840648          0.500258   \n",
              "min                       2.002000                 1.233333          0.000000   \n",
              "25%                       3.050000                63.850000          0.000000   \n",
              "50%                       4.042000               122.733333          0.500000   \n",
              "75%                       5.042000               194.575000          1.000000   \n",
              "max                       6.360000               337.033333          1.000000   \n",
              "\n",
              "       radio_therapy  tumor_size  tumor_stage  \n",
              "count     968.000000  968.000000   968.000000  \n",
              "mean        0.677686   25.410640     1.732438  \n",
              "std         0.467604   14.748566     0.618319  \n",
              "min         0.000000    1.000000     1.000000  \n",
              "25%         0.000000   17.000000     1.000000  \n",
              "50%         1.000000   22.000000     2.000000  \n",
              "75%         1.000000   30.000000     2.000000  \n",
              "max         1.000000  180.000000     4.000000  "
            ],
            "text/html": [
              "\n",
              "  <div id=\"df-531e5b74-dfa1-4cde-a11a-01f07f44ffc6\" class=\"colab-df-container\">\n",
              "    <div>\n",
              "<style scoped>\n",
              "    .dataframe tbody tr th:only-of-type {\n",
              "        vertical-align: middle;\n",
              "    }\n",
              "\n",
              "    .dataframe tbody tr th {\n",
              "        vertical-align: top;\n",
              "    }\n",
              "\n",
              "    .dataframe thead th {\n",
              "        text-align: right;\n",
              "    }\n",
              "</style>\n",
              "<table border=\"1\" class=\"dataframe\">\n",
              "  <thead>\n",
              "    <tr style=\"text-align: right;\">\n",
              "      <th></th>\n",
              "      <th>age_at_diagnosis</th>\n",
              "      <th>chemotherapy</th>\n",
              "      <th>cohort</th>\n",
              "      <th>neoplasm_histologic_grade</th>\n",
              "      <th>hormone_therapy</th>\n",
              "      <th>lymph_nodes_examined_positive</th>\n",
              "      <th>mutation_count</th>\n",
              "      <th>nottingham_prognostic_index</th>\n",
              "      <th>overall_survival_months</th>\n",
              "      <th>overall_survival</th>\n",
              "      <th>radio_therapy</th>\n",
              "      <th>tumor_size</th>\n",
              "      <th>tumor_stage</th>\n",
              "    </tr>\n",
              "  </thead>\n",
              "  <tbody>\n",
              "    <tr>\n",
              "      <th>count</th>\n",
              "      <td>968.000000</td>\n",
              "      <td>968.000000</td>\n",
              "      <td>968.000000</td>\n",
              "      <td>968.000000</td>\n",
              "      <td>968.000000</td>\n",
              "      <td>968.000000</td>\n",
              "      <td>968.000000</td>\n",
              "      <td>968.000000</td>\n",
              "      <td>968.000000</td>\n",
              "      <td>968.000000</td>\n",
              "      <td>968.000000</td>\n",
              "      <td>968.000000</td>\n",
              "      <td>968.000000</td>\n",
              "    </tr>\n",
              "    <tr>\n",
              "      <th>mean</th>\n",
              "      <td>59.864401</td>\n",
              "      <td>0.221074</td>\n",
              "      <td>2.205579</td>\n",
              "      <td>2.436983</td>\n",
              "      <td>0.613636</td>\n",
              "      <td>1.796488</td>\n",
              "      <td>5.465909</td>\n",
              "      <td>4.090077</td>\n",
              "      <td>131.682128</td>\n",
              "      <td>0.500000</td>\n",
              "      <td>0.677686</td>\n",
              "      <td>25.410640</td>\n",
              "      <td>1.732438</td>\n",
              "    </tr>\n",
              "    <tr>\n",
              "      <th>std</th>\n",
              "      <td>13.014290</td>\n",
              "      <td>0.415185</td>\n",
              "      <td>0.955088</td>\n",
              "      <td>0.638441</td>\n",
              "      <td>0.487167</td>\n",
              "      <td>3.816487</td>\n",
              "      <td>3.818920</td>\n",
              "      <td>1.048632</td>\n",
              "      <td>77.840648</td>\n",
              "      <td>0.500258</td>\n",
              "      <td>0.467604</td>\n",
              "      <td>14.748566</td>\n",
              "      <td>0.618319</td>\n",
              "    </tr>\n",
              "    <tr>\n",
              "      <th>min</th>\n",
              "      <td>21.930000</td>\n",
              "      <td>0.000000</td>\n",
              "      <td>1.000000</td>\n",
              "      <td>1.000000</td>\n",
              "      <td>0.000000</td>\n",
              "      <td>0.000000</td>\n",
              "      <td>1.000000</td>\n",
              "      <td>2.002000</td>\n",
              "      <td>1.233333</td>\n",
              "      <td>0.000000</td>\n",
              "      <td>0.000000</td>\n",
              "      <td>1.000000</td>\n",
              "      <td>1.000000</td>\n",
              "    </tr>\n",
              "    <tr>\n",
              "      <th>25%</th>\n",
              "      <td>50.315000</td>\n",
              "      <td>0.000000</td>\n",
              "      <td>1.000000</td>\n",
              "      <td>2.000000</td>\n",
              "      <td>0.000000</td>\n",
              "      <td>0.000000</td>\n",
              "      <td>3.000000</td>\n",
              "      <td>3.050000</td>\n",
              "      <td>63.850000</td>\n",
              "      <td>0.000000</td>\n",
              "      <td>0.000000</td>\n",
              "      <td>17.000000</td>\n",
              "      <td>1.000000</td>\n",
              "    </tr>\n",
              "    <tr>\n",
              "      <th>50%</th>\n",
              "      <td>60.320000</td>\n",
              "      <td>0.000000</td>\n",
              "      <td>2.000000</td>\n",
              "      <td>3.000000</td>\n",
              "      <td>1.000000</td>\n",
              "      <td>0.000000</td>\n",
              "      <td>5.000000</td>\n",
              "      <td>4.042000</td>\n",
              "      <td>122.733333</td>\n",
              "      <td>0.500000</td>\n",
              "      <td>1.000000</td>\n",
              "      <td>22.000000</td>\n",
              "      <td>2.000000</td>\n",
              "    </tr>\n",
              "    <tr>\n",
              "      <th>75%</th>\n",
              "      <td>69.312500</td>\n",
              "      <td>0.000000</td>\n",
              "      <td>3.000000</td>\n",
              "      <td>3.000000</td>\n",
              "      <td>1.000000</td>\n",
              "      <td>2.000000</td>\n",
              "      <td>7.000000</td>\n",
              "      <td>5.042000</td>\n",
              "      <td>194.575000</td>\n",
              "      <td>1.000000</td>\n",
              "      <td>1.000000</td>\n",
              "      <td>30.000000</td>\n",
              "      <td>2.000000</td>\n",
              "    </tr>\n",
              "    <tr>\n",
              "      <th>max</th>\n",
              "      <td>96.290000</td>\n",
              "      <td>1.000000</td>\n",
              "      <td>5.000000</td>\n",
              "      <td>3.000000</td>\n",
              "      <td>1.000000</td>\n",
              "      <td>41.000000</td>\n",
              "      <td>46.000000</td>\n",
              "      <td>6.360000</td>\n",
              "      <td>337.033333</td>\n",
              "      <td>1.000000</td>\n",
              "      <td>1.000000</td>\n",
              "      <td>180.000000</td>\n",
              "      <td>4.000000</td>\n",
              "    </tr>\n",
              "  </tbody>\n",
              "</table>\n",
              "</div>\n",
              "    <div class=\"colab-df-buttons\">\n",
              "\n",
              "  <div class=\"colab-df-container\">\n",
              "    <button class=\"colab-df-convert\" onclick=\"convertToInteractive('df-531e5b74-dfa1-4cde-a11a-01f07f44ffc6')\"\n",
              "            title=\"Convert this dataframe to an interactive table.\"\n",
              "            style=\"display:none;\">\n",
              "\n",
              "  <svg xmlns=\"http://www.w3.org/2000/svg\" height=\"24px\" viewBox=\"0 -960 960 960\">\n",
              "    <path d=\"M120-120v-720h720v720H120Zm60-500h600v-160H180v160Zm220 220h160v-160H400v160Zm0 220h160v-160H400v160ZM180-400h160v-160H180v160Zm440 0h160v-160H620v160ZM180-180h160v-160H180v160Zm440 0h160v-160H620v160Z\"/>\n",
              "  </svg>\n",
              "    </button>\n",
              "\n",
              "  <style>\n",
              "    .colab-df-container {\n",
              "      display:flex;\n",
              "      gap: 12px;\n",
              "    }\n",
              "\n",
              "    .colab-df-convert {\n",
              "      background-color: #E8F0FE;\n",
              "      border: none;\n",
              "      border-radius: 50%;\n",
              "      cursor: pointer;\n",
              "      display: none;\n",
              "      fill: #1967D2;\n",
              "      height: 32px;\n",
              "      padding: 0 0 0 0;\n",
              "      width: 32px;\n",
              "    }\n",
              "\n",
              "    .colab-df-convert:hover {\n",
              "      background-color: #E2EBFA;\n",
              "      box-shadow: 0px 1px 2px rgba(60, 64, 67, 0.3), 0px 1px 3px 1px rgba(60, 64, 67, 0.15);\n",
              "      fill: #174EA6;\n",
              "    }\n",
              "\n",
              "    .colab-df-buttons div {\n",
              "      margin-bottom: 4px;\n",
              "    }\n",
              "\n",
              "    [theme=dark] .colab-df-convert {\n",
              "      background-color: #3B4455;\n",
              "      fill: #D2E3FC;\n",
              "    }\n",
              "\n",
              "    [theme=dark] .colab-df-convert:hover {\n",
              "      background-color: #434B5C;\n",
              "      box-shadow: 0px 1px 3px 1px rgba(0, 0, 0, 0.15);\n",
              "      filter: drop-shadow(0px 1px 2px rgba(0, 0, 0, 0.3));\n",
              "      fill: #FFFFFF;\n",
              "    }\n",
              "  </style>\n",
              "\n",
              "    <script>\n",
              "      const buttonEl =\n",
              "        document.querySelector('#df-531e5b74-dfa1-4cde-a11a-01f07f44ffc6 button.colab-df-convert');\n",
              "      buttonEl.style.display =\n",
              "        google.colab.kernel.accessAllowed ? 'block' : 'none';\n",
              "\n",
              "      async function convertToInteractive(key) {\n",
              "        const element = document.querySelector('#df-531e5b74-dfa1-4cde-a11a-01f07f44ffc6');\n",
              "        const dataTable =\n",
              "          await google.colab.kernel.invokeFunction('convertToInteractive',\n",
              "                                                    [key], {});\n",
              "        if (!dataTable) return;\n",
              "\n",
              "        const docLinkHtml = 'Like what you see? Visit the ' +\n",
              "          '<a target=\"_blank\" href=https://colab.research.google.com/notebooks/data_table.ipynb>data table notebook</a>'\n",
              "          + ' to learn more about interactive tables.';\n",
              "        element.innerHTML = '';\n",
              "        dataTable['output_type'] = 'display_data';\n",
              "        await google.colab.output.renderOutput(dataTable, element);\n",
              "        const docLink = document.createElement('div');\n",
              "        docLink.innerHTML = docLinkHtml;\n",
              "        element.appendChild(docLink);\n",
              "      }\n",
              "    </script>\n",
              "  </div>\n",
              "\n",
              "\n",
              "<div id=\"df-e2032554-e81b-4ffa-bac9-8cb723749799\">\n",
              "  <button class=\"colab-df-quickchart\" onclick=\"quickchart('df-e2032554-e81b-4ffa-bac9-8cb723749799')\"\n",
              "            title=\"Suggest charts.\"\n",
              "            style=\"display:none;\">\n",
              "\n",
              "<svg xmlns=\"http://www.w3.org/2000/svg\" height=\"24px\"viewBox=\"0 0 24 24\"\n",
              "     width=\"24px\">\n",
              "    <g>\n",
              "        <path d=\"M19 3H5c-1.1 0-2 .9-2 2v14c0 1.1.9 2 2 2h14c1.1 0 2-.9 2-2V5c0-1.1-.9-2-2-2zM9 17H7v-7h2v7zm4 0h-2V7h2v10zm4 0h-2v-4h2v4z\"/>\n",
              "    </g>\n",
              "</svg>\n",
              "  </button>\n",
              "\n",
              "<style>\n",
              "  .colab-df-quickchart {\n",
              "      --bg-color: #E8F0FE;\n",
              "      --fill-color: #1967D2;\n",
              "      --hover-bg-color: #E2EBFA;\n",
              "      --hover-fill-color: #174EA6;\n",
              "      --disabled-fill-color: #AAA;\n",
              "      --disabled-bg-color: #DDD;\n",
              "  }\n",
              "\n",
              "  [theme=dark] .colab-df-quickchart {\n",
              "      --bg-color: #3B4455;\n",
              "      --fill-color: #D2E3FC;\n",
              "      --hover-bg-color: #434B5C;\n",
              "      --hover-fill-color: #FFFFFF;\n",
              "      --disabled-bg-color: #3B4455;\n",
              "      --disabled-fill-color: #666;\n",
              "  }\n",
              "\n",
              "  .colab-df-quickchart {\n",
              "    background-color: var(--bg-color);\n",
              "    border: none;\n",
              "    border-radius: 50%;\n",
              "    cursor: pointer;\n",
              "    display: none;\n",
              "    fill: var(--fill-color);\n",
              "    height: 32px;\n",
              "    padding: 0;\n",
              "    width: 32px;\n",
              "  }\n",
              "\n",
              "  .colab-df-quickchart:hover {\n",
              "    background-color: var(--hover-bg-color);\n",
              "    box-shadow: 0 1px 2px rgba(60, 64, 67, 0.3), 0 1px 3px 1px rgba(60, 64, 67, 0.15);\n",
              "    fill: var(--button-hover-fill-color);\n",
              "  }\n",
              "\n",
              "  .colab-df-quickchart-complete:disabled,\n",
              "  .colab-df-quickchart-complete:disabled:hover {\n",
              "    background-color: var(--disabled-bg-color);\n",
              "    fill: var(--disabled-fill-color);\n",
              "    box-shadow: none;\n",
              "  }\n",
              "\n",
              "  .colab-df-spinner {\n",
              "    border: 2px solid var(--fill-color);\n",
              "    border-color: transparent;\n",
              "    border-bottom-color: var(--fill-color);\n",
              "    animation:\n",
              "      spin 1s steps(1) infinite;\n",
              "  }\n",
              "\n",
              "  @keyframes spin {\n",
              "    0% {\n",
              "      border-color: transparent;\n",
              "      border-bottom-color: var(--fill-color);\n",
              "      border-left-color: var(--fill-color);\n",
              "    }\n",
              "    20% {\n",
              "      border-color: transparent;\n",
              "      border-left-color: var(--fill-color);\n",
              "      border-top-color: var(--fill-color);\n",
              "    }\n",
              "    30% {\n",
              "      border-color: transparent;\n",
              "      border-left-color: var(--fill-color);\n",
              "      border-top-color: var(--fill-color);\n",
              "      border-right-color: var(--fill-color);\n",
              "    }\n",
              "    40% {\n",
              "      border-color: transparent;\n",
              "      border-right-color: var(--fill-color);\n",
              "      border-top-color: var(--fill-color);\n",
              "    }\n",
              "    60% {\n",
              "      border-color: transparent;\n",
              "      border-right-color: var(--fill-color);\n",
              "    }\n",
              "    80% {\n",
              "      border-color: transparent;\n",
              "      border-right-color: var(--fill-color);\n",
              "      border-bottom-color: var(--fill-color);\n",
              "    }\n",
              "    90% {\n",
              "      border-color: transparent;\n",
              "      border-bottom-color: var(--fill-color);\n",
              "    }\n",
              "  }\n",
              "</style>\n",
              "\n",
              "  <script>\n",
              "    async function quickchart(key) {\n",
              "      const quickchartButtonEl =\n",
              "        document.querySelector('#' + key + ' button');\n",
              "      quickchartButtonEl.disabled = true;  // To prevent multiple clicks.\n",
              "      quickchartButtonEl.classList.add('colab-df-spinner');\n",
              "      try {\n",
              "        const charts = await google.colab.kernel.invokeFunction(\n",
              "            'suggestCharts', [key], {});\n",
              "      } catch (error) {\n",
              "        console.error('Error during call to suggestCharts:', error);\n",
              "      }\n",
              "      quickchartButtonEl.classList.remove('colab-df-spinner');\n",
              "      quickchartButtonEl.classList.add('colab-df-quickchart-complete');\n",
              "    }\n",
              "    (() => {\n",
              "      let quickchartButtonEl =\n",
              "        document.querySelector('#df-e2032554-e81b-4ffa-bac9-8cb723749799 button');\n",
              "      quickchartButtonEl.style.display =\n",
              "        google.colab.kernel.accessAllowed ? 'block' : 'none';\n",
              "    })();\n",
              "  </script>\n",
              "</div>\n",
              "    </div>\n",
              "  </div>\n"
            ]
          },
          "metadata": {},
          "execution_count": 44
        }
      ]
    },
    {
      "cell_type": "code",
      "source": [
        "num_zscores = numdata.apply(zscore)"
      ],
      "metadata": {
        "id": "NKVbmOYJ4j4g"
      },
      "execution_count": null,
      "outputs": []
    },
    {
      "cell_type": "code",
      "source": [
        "num_zscores_binary = num_zscores.abs()>3"
      ],
      "metadata": {
        "id": "gH2eV9wI4nbG"
      },
      "execution_count": null,
      "outputs": []
    },
    {
      "cell_type": "code",
      "source": [
        "num_zscores_binary"
      ],
      "metadata": {
        "colab": {
          "base_uri": "https://localhost:8080/",
          "height": 443
        },
        "id": "CL3mFx3a4qnI",
        "outputId": "6ad6434b-6739-4a5e-de76-745d165b62de"
      },
      "execution_count": null,
      "outputs": [
        {
          "output_type": "execute_result",
          "data": {
            "text/plain": [
              "      age_at_diagnosis  chemotherapy  cohort  neoplasm_histologic_grade  \\\n",
              "151              False         False   False                      False   \n",
              "1618             False         False   False                      False   \n",
              "394              False         False   False                      False   \n",
              "887              False         False   False                      False   \n",
              "1282             False         False   False                      False   \n",
              "...                ...           ...     ...                        ...   \n",
              "447              False         False   False                      False   \n",
              "1621             False         False   False                      False   \n",
              "76               False         False   False                      False   \n",
              "539              False         False   False                      False   \n",
              "1392             False         False   False                      False   \n",
              "\n",
              "      hormone_therapy  lymph_nodes_examined_positive  mutation_count  \\\n",
              "151             False                          False           False   \n",
              "1618            False                          False           False   \n",
              "394             False                          False           False   \n",
              "887             False                          False           False   \n",
              "1282            False                          False           False   \n",
              "...               ...                            ...             ...   \n",
              "447             False                          False           False   \n",
              "1621            False                          False           False   \n",
              "76              False                          False           False   \n",
              "539             False                          False           False   \n",
              "1392            False                           True           False   \n",
              "\n",
              "      nottingham_prognostic_index  overall_survival_months  overall_survival  \\\n",
              "151                         False                    False             False   \n",
              "1618                        False                    False             False   \n",
              "394                         False                    False             False   \n",
              "887                         False                    False             False   \n",
              "1282                        False                    False             False   \n",
              "...                           ...                      ...               ...   \n",
              "447                         False                    False             False   \n",
              "1621                        False                    False             False   \n",
              "76                          False                    False             False   \n",
              "539                         False                    False             False   \n",
              "1392                        False                    False             False   \n",
              "\n",
              "      radio_therapy  tumor_size  tumor_stage  \n",
              "151           False       False        False  \n",
              "1618          False       False        False  \n",
              "394           False       False        False  \n",
              "887           False       False        False  \n",
              "1282          False       False        False  \n",
              "...             ...         ...          ...  \n",
              "447           False       False        False  \n",
              "1621          False       False        False  \n",
              "76            False       False        False  \n",
              "539           False       False        False  \n",
              "1392          False       False        False  \n",
              "\n",
              "[968 rows x 13 columns]"
            ],
            "text/html": [
              "\n",
              "  <div id=\"df-7cae52f4-0697-405c-9493-037687740c78\" class=\"colab-df-container\">\n",
              "    <div>\n",
              "<style scoped>\n",
              "    .dataframe tbody tr th:only-of-type {\n",
              "        vertical-align: middle;\n",
              "    }\n",
              "\n",
              "    .dataframe tbody tr th {\n",
              "        vertical-align: top;\n",
              "    }\n",
              "\n",
              "    .dataframe thead th {\n",
              "        text-align: right;\n",
              "    }\n",
              "</style>\n",
              "<table border=\"1\" class=\"dataframe\">\n",
              "  <thead>\n",
              "    <tr style=\"text-align: right;\">\n",
              "      <th></th>\n",
              "      <th>age_at_diagnosis</th>\n",
              "      <th>chemotherapy</th>\n",
              "      <th>cohort</th>\n",
              "      <th>neoplasm_histologic_grade</th>\n",
              "      <th>hormone_therapy</th>\n",
              "      <th>lymph_nodes_examined_positive</th>\n",
              "      <th>mutation_count</th>\n",
              "      <th>nottingham_prognostic_index</th>\n",
              "      <th>overall_survival_months</th>\n",
              "      <th>overall_survival</th>\n",
              "      <th>radio_therapy</th>\n",
              "      <th>tumor_size</th>\n",
              "      <th>tumor_stage</th>\n",
              "    </tr>\n",
              "  </thead>\n",
              "  <tbody>\n",
              "    <tr>\n",
              "      <th>151</th>\n",
              "      <td>False</td>\n",
              "      <td>False</td>\n",
              "      <td>False</td>\n",
              "      <td>False</td>\n",
              "      <td>False</td>\n",
              "      <td>False</td>\n",
              "      <td>False</td>\n",
              "      <td>False</td>\n",
              "      <td>False</td>\n",
              "      <td>False</td>\n",
              "      <td>False</td>\n",
              "      <td>False</td>\n",
              "      <td>False</td>\n",
              "    </tr>\n",
              "    <tr>\n",
              "      <th>1618</th>\n",
              "      <td>False</td>\n",
              "      <td>False</td>\n",
              "      <td>False</td>\n",
              "      <td>False</td>\n",
              "      <td>False</td>\n",
              "      <td>False</td>\n",
              "      <td>False</td>\n",
              "      <td>False</td>\n",
              "      <td>False</td>\n",
              "      <td>False</td>\n",
              "      <td>False</td>\n",
              "      <td>False</td>\n",
              "      <td>False</td>\n",
              "    </tr>\n",
              "    <tr>\n",
              "      <th>394</th>\n",
              "      <td>False</td>\n",
              "      <td>False</td>\n",
              "      <td>False</td>\n",
              "      <td>False</td>\n",
              "      <td>False</td>\n",
              "      <td>False</td>\n",
              "      <td>False</td>\n",
              "      <td>False</td>\n",
              "      <td>False</td>\n",
              "      <td>False</td>\n",
              "      <td>False</td>\n",
              "      <td>False</td>\n",
              "      <td>False</td>\n",
              "    </tr>\n",
              "    <tr>\n",
              "      <th>887</th>\n",
              "      <td>False</td>\n",
              "      <td>False</td>\n",
              "      <td>False</td>\n",
              "      <td>False</td>\n",
              "      <td>False</td>\n",
              "      <td>False</td>\n",
              "      <td>False</td>\n",
              "      <td>False</td>\n",
              "      <td>False</td>\n",
              "      <td>False</td>\n",
              "      <td>False</td>\n",
              "      <td>False</td>\n",
              "      <td>False</td>\n",
              "    </tr>\n",
              "    <tr>\n",
              "      <th>1282</th>\n",
              "      <td>False</td>\n",
              "      <td>False</td>\n",
              "      <td>False</td>\n",
              "      <td>False</td>\n",
              "      <td>False</td>\n",
              "      <td>False</td>\n",
              "      <td>False</td>\n",
              "      <td>False</td>\n",
              "      <td>False</td>\n",
              "      <td>False</td>\n",
              "      <td>False</td>\n",
              "      <td>False</td>\n",
              "      <td>False</td>\n",
              "    </tr>\n",
              "    <tr>\n",
              "      <th>...</th>\n",
              "      <td>...</td>\n",
              "      <td>...</td>\n",
              "      <td>...</td>\n",
              "      <td>...</td>\n",
              "      <td>...</td>\n",
              "      <td>...</td>\n",
              "      <td>...</td>\n",
              "      <td>...</td>\n",
              "      <td>...</td>\n",
              "      <td>...</td>\n",
              "      <td>...</td>\n",
              "      <td>...</td>\n",
              "      <td>...</td>\n",
              "    </tr>\n",
              "    <tr>\n",
              "      <th>447</th>\n",
              "      <td>False</td>\n",
              "      <td>False</td>\n",
              "      <td>False</td>\n",
              "      <td>False</td>\n",
              "      <td>False</td>\n",
              "      <td>False</td>\n",
              "      <td>False</td>\n",
              "      <td>False</td>\n",
              "      <td>False</td>\n",
              "      <td>False</td>\n",
              "      <td>False</td>\n",
              "      <td>False</td>\n",
              "      <td>False</td>\n",
              "    </tr>\n",
              "    <tr>\n",
              "      <th>1621</th>\n",
              "      <td>False</td>\n",
              "      <td>False</td>\n",
              "      <td>False</td>\n",
              "      <td>False</td>\n",
              "      <td>False</td>\n",
              "      <td>False</td>\n",
              "      <td>False</td>\n",
              "      <td>False</td>\n",
              "      <td>False</td>\n",
              "      <td>False</td>\n",
              "      <td>False</td>\n",
              "      <td>False</td>\n",
              "      <td>False</td>\n",
              "    </tr>\n",
              "    <tr>\n",
              "      <th>76</th>\n",
              "      <td>False</td>\n",
              "      <td>False</td>\n",
              "      <td>False</td>\n",
              "      <td>False</td>\n",
              "      <td>False</td>\n",
              "      <td>False</td>\n",
              "      <td>False</td>\n",
              "      <td>False</td>\n",
              "      <td>False</td>\n",
              "      <td>False</td>\n",
              "      <td>False</td>\n",
              "      <td>False</td>\n",
              "      <td>False</td>\n",
              "    </tr>\n",
              "    <tr>\n",
              "      <th>539</th>\n",
              "      <td>False</td>\n",
              "      <td>False</td>\n",
              "      <td>False</td>\n",
              "      <td>False</td>\n",
              "      <td>False</td>\n",
              "      <td>False</td>\n",
              "      <td>False</td>\n",
              "      <td>False</td>\n",
              "      <td>False</td>\n",
              "      <td>False</td>\n",
              "      <td>False</td>\n",
              "      <td>False</td>\n",
              "      <td>False</td>\n",
              "    </tr>\n",
              "    <tr>\n",
              "      <th>1392</th>\n",
              "      <td>False</td>\n",
              "      <td>False</td>\n",
              "      <td>False</td>\n",
              "      <td>False</td>\n",
              "      <td>False</td>\n",
              "      <td>True</td>\n",
              "      <td>False</td>\n",
              "      <td>False</td>\n",
              "      <td>False</td>\n",
              "      <td>False</td>\n",
              "      <td>False</td>\n",
              "      <td>False</td>\n",
              "      <td>False</td>\n",
              "    </tr>\n",
              "  </tbody>\n",
              "</table>\n",
              "<p>968 rows × 13 columns</p>\n",
              "</div>\n",
              "    <div class=\"colab-df-buttons\">\n",
              "\n",
              "  <div class=\"colab-df-container\">\n",
              "    <button class=\"colab-df-convert\" onclick=\"convertToInteractive('df-7cae52f4-0697-405c-9493-037687740c78')\"\n",
              "            title=\"Convert this dataframe to an interactive table.\"\n",
              "            style=\"display:none;\">\n",
              "\n",
              "  <svg xmlns=\"http://www.w3.org/2000/svg\" height=\"24px\" viewBox=\"0 -960 960 960\">\n",
              "    <path d=\"M120-120v-720h720v720H120Zm60-500h600v-160H180v160Zm220 220h160v-160H400v160Zm0 220h160v-160H400v160ZM180-400h160v-160H180v160Zm440 0h160v-160H620v160ZM180-180h160v-160H180v160Zm440 0h160v-160H620v160Z\"/>\n",
              "  </svg>\n",
              "    </button>\n",
              "\n",
              "  <style>\n",
              "    .colab-df-container {\n",
              "      display:flex;\n",
              "      gap: 12px;\n",
              "    }\n",
              "\n",
              "    .colab-df-convert {\n",
              "      background-color: #E8F0FE;\n",
              "      border: none;\n",
              "      border-radius: 50%;\n",
              "      cursor: pointer;\n",
              "      display: none;\n",
              "      fill: #1967D2;\n",
              "      height: 32px;\n",
              "      padding: 0 0 0 0;\n",
              "      width: 32px;\n",
              "    }\n",
              "\n",
              "    .colab-df-convert:hover {\n",
              "      background-color: #E2EBFA;\n",
              "      box-shadow: 0px 1px 2px rgba(60, 64, 67, 0.3), 0px 1px 3px 1px rgba(60, 64, 67, 0.15);\n",
              "      fill: #174EA6;\n",
              "    }\n",
              "\n",
              "    .colab-df-buttons div {\n",
              "      margin-bottom: 4px;\n",
              "    }\n",
              "\n",
              "    [theme=dark] .colab-df-convert {\n",
              "      background-color: #3B4455;\n",
              "      fill: #D2E3FC;\n",
              "    }\n",
              "\n",
              "    [theme=dark] .colab-df-convert:hover {\n",
              "      background-color: #434B5C;\n",
              "      box-shadow: 0px 1px 3px 1px rgba(0, 0, 0, 0.15);\n",
              "      filter: drop-shadow(0px 1px 2px rgba(0, 0, 0, 0.3));\n",
              "      fill: #FFFFFF;\n",
              "    }\n",
              "  </style>\n",
              "\n",
              "    <script>\n",
              "      const buttonEl =\n",
              "        document.querySelector('#df-7cae52f4-0697-405c-9493-037687740c78 button.colab-df-convert');\n",
              "      buttonEl.style.display =\n",
              "        google.colab.kernel.accessAllowed ? 'block' : 'none';\n",
              "\n",
              "      async function convertToInteractive(key) {\n",
              "        const element = document.querySelector('#df-7cae52f4-0697-405c-9493-037687740c78');\n",
              "        const dataTable =\n",
              "          await google.colab.kernel.invokeFunction('convertToInteractive',\n",
              "                                                    [key], {});\n",
              "        if (!dataTable) return;\n",
              "\n",
              "        const docLinkHtml = 'Like what you see? Visit the ' +\n",
              "          '<a target=\"_blank\" href=https://colab.research.google.com/notebooks/data_table.ipynb>data table notebook</a>'\n",
              "          + ' to learn more about interactive tables.';\n",
              "        element.innerHTML = '';\n",
              "        dataTable['output_type'] = 'display_data';\n",
              "        await google.colab.output.renderOutput(dataTable, element);\n",
              "        const docLink = document.createElement('div');\n",
              "        docLink.innerHTML = docLinkHtml;\n",
              "        element.appendChild(docLink);\n",
              "      }\n",
              "    </script>\n",
              "  </div>\n",
              "\n",
              "\n",
              "<div id=\"df-ff281307-9c51-41d1-b243-d2744e5a0859\">\n",
              "  <button class=\"colab-df-quickchart\" onclick=\"quickchart('df-ff281307-9c51-41d1-b243-d2744e5a0859')\"\n",
              "            title=\"Suggest charts.\"\n",
              "            style=\"display:none;\">\n",
              "\n",
              "<svg xmlns=\"http://www.w3.org/2000/svg\" height=\"24px\"viewBox=\"0 0 24 24\"\n",
              "     width=\"24px\">\n",
              "    <g>\n",
              "        <path d=\"M19 3H5c-1.1 0-2 .9-2 2v14c0 1.1.9 2 2 2h14c1.1 0 2-.9 2-2V5c0-1.1-.9-2-2-2zM9 17H7v-7h2v7zm4 0h-2V7h2v10zm4 0h-2v-4h2v4z\"/>\n",
              "    </g>\n",
              "</svg>\n",
              "  </button>\n",
              "\n",
              "<style>\n",
              "  .colab-df-quickchart {\n",
              "      --bg-color: #E8F0FE;\n",
              "      --fill-color: #1967D2;\n",
              "      --hover-bg-color: #E2EBFA;\n",
              "      --hover-fill-color: #174EA6;\n",
              "      --disabled-fill-color: #AAA;\n",
              "      --disabled-bg-color: #DDD;\n",
              "  }\n",
              "\n",
              "  [theme=dark] .colab-df-quickchart {\n",
              "      --bg-color: #3B4455;\n",
              "      --fill-color: #D2E3FC;\n",
              "      --hover-bg-color: #434B5C;\n",
              "      --hover-fill-color: #FFFFFF;\n",
              "      --disabled-bg-color: #3B4455;\n",
              "      --disabled-fill-color: #666;\n",
              "  }\n",
              "\n",
              "  .colab-df-quickchart {\n",
              "    background-color: var(--bg-color);\n",
              "    border: none;\n",
              "    border-radius: 50%;\n",
              "    cursor: pointer;\n",
              "    display: none;\n",
              "    fill: var(--fill-color);\n",
              "    height: 32px;\n",
              "    padding: 0;\n",
              "    width: 32px;\n",
              "  }\n",
              "\n",
              "  .colab-df-quickchart:hover {\n",
              "    background-color: var(--hover-bg-color);\n",
              "    box-shadow: 0 1px 2px rgba(60, 64, 67, 0.3), 0 1px 3px 1px rgba(60, 64, 67, 0.15);\n",
              "    fill: var(--button-hover-fill-color);\n",
              "  }\n",
              "\n",
              "  .colab-df-quickchart-complete:disabled,\n",
              "  .colab-df-quickchart-complete:disabled:hover {\n",
              "    background-color: var(--disabled-bg-color);\n",
              "    fill: var(--disabled-fill-color);\n",
              "    box-shadow: none;\n",
              "  }\n",
              "\n",
              "  .colab-df-spinner {\n",
              "    border: 2px solid var(--fill-color);\n",
              "    border-color: transparent;\n",
              "    border-bottom-color: var(--fill-color);\n",
              "    animation:\n",
              "      spin 1s steps(1) infinite;\n",
              "  }\n",
              "\n",
              "  @keyframes spin {\n",
              "    0% {\n",
              "      border-color: transparent;\n",
              "      border-bottom-color: var(--fill-color);\n",
              "      border-left-color: var(--fill-color);\n",
              "    }\n",
              "    20% {\n",
              "      border-color: transparent;\n",
              "      border-left-color: var(--fill-color);\n",
              "      border-top-color: var(--fill-color);\n",
              "    }\n",
              "    30% {\n",
              "      border-color: transparent;\n",
              "      border-left-color: var(--fill-color);\n",
              "      border-top-color: var(--fill-color);\n",
              "      border-right-color: var(--fill-color);\n",
              "    }\n",
              "    40% {\n",
              "      border-color: transparent;\n",
              "      border-right-color: var(--fill-color);\n",
              "      border-top-color: var(--fill-color);\n",
              "    }\n",
              "    60% {\n",
              "      border-color: transparent;\n",
              "      border-right-color: var(--fill-color);\n",
              "    }\n",
              "    80% {\n",
              "      border-color: transparent;\n",
              "      border-right-color: var(--fill-color);\n",
              "      border-bottom-color: var(--fill-color);\n",
              "    }\n",
              "    90% {\n",
              "      border-color: transparent;\n",
              "      border-bottom-color: var(--fill-color);\n",
              "    }\n",
              "  }\n",
              "</style>\n",
              "\n",
              "  <script>\n",
              "    async function quickchart(key) {\n",
              "      const quickchartButtonEl =\n",
              "        document.querySelector('#' + key + ' button');\n",
              "      quickchartButtonEl.disabled = true;  // To prevent multiple clicks.\n",
              "      quickchartButtonEl.classList.add('colab-df-spinner');\n",
              "      try {\n",
              "        const charts = await google.colab.kernel.invokeFunction(\n",
              "            'suggestCharts', [key], {});\n",
              "      } catch (error) {\n",
              "        console.error('Error during call to suggestCharts:', error);\n",
              "      }\n",
              "      quickchartButtonEl.classList.remove('colab-df-spinner');\n",
              "      quickchartButtonEl.classList.add('colab-df-quickchart-complete');\n",
              "    }\n",
              "    (() => {\n",
              "      let quickchartButtonEl =\n",
              "        document.querySelector('#df-ff281307-9c51-41d1-b243-d2744e5a0859 button');\n",
              "      quickchartButtonEl.style.display =\n",
              "        google.colab.kernel.accessAllowed ? 'block' : 'none';\n",
              "    })();\n",
              "  </script>\n",
              "</div>\n",
              "    </div>\n",
              "  </div>\n"
            ]
          },
          "metadata": {},
          "execution_count": 47
        }
      ]
    },
    {
      "cell_type": "code",
      "source": [
        "fig, axs = plt.subplots(figsize = (15, 10))\n",
        "sns.heatmap(num_zscores_binary)\n",
        "plt.title('Outlier data points across patients |z-score|>3')\n",
        "plt.show()"
      ],
      "metadata": {
        "colab": {
          "base_uri": "https://localhost:8080/",
          "height": 1000
        },
        "id": "Knh3Pd3g4t72",
        "outputId": "00fb389e-3f85-452f-c153-ee28cb3677c7"
      },
      "execution_count": null,
      "outputs": [
        {
          "output_type": "display_data",
          "data": {
            "text/plain": [
              "<Figure size 1500x1000 with 2 Axes>"
            ],
            "image/png": "[encoded data removed]"
          },
          "metadata": {}
        }
      ]
    },
    {
      "cell_type": "code",
      "source": [
        "# Calculate the z-score of each data point\n",
        "z_scores = np.abs((num_zscores_binary - np.mean(num_zscores_binary)) / np.std(num_zscores_binary))\n",
        "\n",
        "# Filter out any data points with a z-score greater than 3\n",
        "num_zscores_binary_filtered = np.where(z_scores > 3, np.nan, num_zscores_binary)\n",
        "\n",
        "# Create the heatmap of the filtered dataset\n",
        "fig, axs = plt.subplots(figsize = (15, 10))\n",
        "sns.heatmap(num_zscores_binary_filtered)\n",
        "plt.title('Data points across patients |z-score|<=3')\n",
        "plt.show()"
      ],
      "metadata": {
        "colab": {
          "base_uri": "https://localhost:8080/",
          "height": 831
        },
        "id": "hNoNz97y4yLF",
        "outputId": "ac20c25e-fd44-4f78-c7cc-c2fc79d8a15f"
      },
      "execution_count": null,
      "outputs": [
        {
          "output_type": "display_data",
          "data": {
            "text/plain": [
              "<Figure size 1500x1000 with 2 Axes>"
            ],
            "image/png": "[encoded data removed]"
          },
          "metadata": {}
        }
      ]
    },
    {
      "cell_type": "code",
      "source": [
        "def performanceResults(y_actual, y_hat):\n",
        "    TP = 0\n",
        "    FP = 0\n",
        "    TN = 0\n",
        "    FN = 0\n",
        "    for i in range(len(y_hat)):\n",
        "        if y_actual[i] == y_hat[i] == 1:\n",
        "            TP += 1\n",
        "        if y_hat[i] == 1 and y_actual[i] != y_hat[i]:\n",
        "            FP += 1\n",
        "        if y_actual[i] == y_hat[i] == 0:\n",
        "            TN += 1\n",
        "        if y_hat[i] == 0 and y_actual[i] != y_hat[i]:\n",
        "            FN += 1\n",
        "    acc = (TP + TN) / (TP + FP + TN + FN)\n",
        "\n",
        "    print ('accuracy: ', acc)"
      ],
      "metadata": {
        "id": "GLvWdAwI45w7"
      },
      "execution_count": null,
      "outputs": []
    },
    {
      "cell_type": "code",
      "source": [
        "from sklearn.preprocessing import OneHotEncoder\n",
        "y = new_data['overall_survival'].values\n",
        "data = new_data.drop(['overall_survival'], axis=1)\n",
        "\n",
        "numericalFeats = data.select_dtypes('number').columns\n",
        "categoricalFeats = data.select_dtypes('object').columns\n",
        "\n",
        "# Split Numeric and Categorical Tables\n",
        "catdata = data[categoricalFeats]\n",
        "numdata = data[numericalFeats]\n",
        "\n",
        "\n",
        "# Scale Numerical Table\n",
        "numdata_scaled = preprocessing.scale(numdata)\n",
        "\n",
        "# One-hot Encode Categorical Table\n",
        "encoder = OneHotEncoder(handle_unknown='ignore')\n",
        "encoder.fit(catdata)\n",
        "catendata = encoder.transform(catdata).toarray()\n",
        "\n",
        "# Combine Features\n",
        "X = np.concatenate((numdata_scaled, catendata), axis=1)\n",
        "\n",
        "# Separate Train and Testing Data\n",
        "(X_train, X_test, y_train, y_test) = train_test_split(X, y, test_size=0.30, random_state=42)"
      ],
      "metadata": {
        "id": "U53Ljxlb4-eB"
      },
      "execution_count": null,
      "outputs": []
    },
    {
      "cell_type": "markdown",
      "source": [
        "Logistic Regression"
      ],
      "metadata": {
        "id": "QWSZ-jbB54Qo"
      }
    },
    {
      "cell_type": "code",
      "source": [
        "clf_LR = LogisticRegression()\n",
        "clf_LR.fit(X_train, y_train)\n",
        "y_pred_LR = clf_LR.predict(X_test)\n",
        "PR_LR = performanceResults(y_test, y_pred_LR)\n",
        "print(PR_LR)"
      ],
      "metadata": {
        "colab": {
          "base_uri": "https://localhost:8080/"
        },
        "id": "NFGlsubC5-Au",
        "outputId": "0d5e0d57-f1f7-4d2b-a35d-7850191f1787"
      },
      "execution_count": null,
      "outputs": [
        {
          "output_type": "stream",
          "name": "stdout",
          "text": [
            "accuracy:  1.0\n",
            "None\n"
          ]
        }
      ]
    },
    {
      "cell_type": "markdown",
      "source": [
        "Support Vector Machine"
      ],
      "metadata": {
        "id": "iJ9NNazu6DuV"
      }
    },
    {
      "cell_type": "code",
      "source": [
        "clf_SVM = SVC()\n",
        "clf_SVM.fit(X_train, y_train)\n",
        "y_pred_SVM = clf_SVM.predict(X_test)\n",
        "PR_SVM = performanceResults(y_test, y_pred_SVM)\n",
        "print(PR_SVM)"
      ],
      "metadata": {
        "colab": {
          "base_uri": "https://localhost:8080/"
        },
        "id": "Ls35S3jm6JAn",
        "outputId": "1b5c0404-abec-4bda-9325-7d298f431c21"
      },
      "execution_count": null,
      "outputs": [
        {
          "output_type": "stream",
          "name": "stdout",
          "text": [
            "accuracy:  1.0\n",
            "None\n"
          ]
        }
      ]
    },
    {
      "cell_type": "markdown",
      "source": [
        "Random Forest"
      ],
      "metadata": {
        "id": "gFdtBWh76OI0"
      }
    },
    {
      "cell_type": "code",
      "source": [
        "clf_RF = RandomForestClassifier()\n",
        "clf_RF.fit(X_train, y_train)\n",
        "y_pred_RF = clf_RF.predict(X_test)\n",
        "PR_RF = performanceResults(y_test, y_pred_RF)\n",
        "print(PR_RF)"
      ],
      "metadata": {
        "colab": {
          "base_uri": "https://localhost:8080/"
        },
        "id": "1STvmEf96Ksz",
        "outputId": "33c11f81-039e-4567-e7cd-f526652e24a2"
      },
      "execution_count": null,
      "outputs": [
        {
          "output_type": "stream",
          "name": "stdout",
          "text": [
            "accuracy:  1.0\n",
            "None\n"
          ]
        }
      ]
    },
    {
      "cell_type": "markdown",
      "source": [
        "Decision Tree"
      ],
      "metadata": {
        "id": "cSY3HnwW6Sr_"
      }
    },
    {
      "cell_type": "code",
      "source": [
        "clf_DT = DecisionTreeClassifier()\n",
        "clf_DT.fit(X_train, y_train)\n",
        "y_pred_DT = clf_DT.predict(X_test)\n",
        "PR_DT = performanceResults(y_test, y_pred_DT)\n",
        "print(PR_DT)"
      ],
      "metadata": {
        "colab": {
          "base_uri": "https://localhost:8080/"
        },
        "id": "ti9HPi5W6V09",
        "outputId": "4a4c94ad-82d1-478c-e0ca-ffd2c1e4de14"
      },
      "execution_count": null,
      "outputs": [
        {
          "output_type": "stream",
          "name": "stdout",
          "text": [
            "accuracy:  1.0\n",
            "None\n"
          ]
        }
      ]
    },
    {
      "cell_type": "markdown",
      "source": [
        "**CROSS VALIDATION**"
      ],
      "metadata": {
        "id": "ttgCTCO56tqJ"
      }
    },
    {
      "cell_type": "code",
      "source": [
        "from sklearn.model_selection import cross_val_score\n",
        "LR_scores = cross_val_score(clf_LR, X_train, y_train, cv=5)\n",
        "print(\"'Cross-validated Accuracy LR :' %0.4f (+/- %0.4f)\" % (LR_scores.mean(), LR_scores.std()))\n",
        "\n",
        "DT_scores = cross_val_score(clf_DT, X_train, y_train, cv=5)\n",
        "print(\"'Cross-validated Accuracy DT :' %0.4f (+/- %0.4f)\" % (DT_scores.mean(), DT_scores.std()))\n",
        "\n",
        "SVM_scores = cross_val_score(clf_SVM, X_train, y_train, cv=5)\n",
        "print(\"'Cross-validated Accuracy SVM :' %0.4f (+/- %0.4f)\" % (SVM_scores.mean(), SVM_scores.std()))\n",
        "\n",
        "RF_scores = cross_val_score(clf_RF, X_train, y_train, cv=5)\n",
        "print(\"'Cross-validated Accuracy RF :' %0.4f (+/- %0.4f)\" % (RF_scores.mean(), RF_scores.std()))\n"
      ],
      "metadata": {
        "colab": {
          "base_uri": "https://localhost:8080/"
        },
        "id": "5QqB10Oi6bRB",
        "outputId": "fbec5b36-7c86-497d-f6d7-b75d1f626bf3"
      },
      "execution_count": null,
      "outputs": [
        {
          "output_type": "stream",
          "name": "stdout",
          "text": [
            "'Cross-validated Accuracy LR :' 1.0000 (+/- 0.0000)\n",
            "'Cross-validated Accuracy DT :' 1.0000 (+/- 0.0000)\n",
            "'Cross-validated Accuracy SVM :' 0.9971 (+/- 0.0059)\n",
            "'Cross-validated Accuracy RF :' 1.0000 (+/- 0.0000)\n"
          ]
        }
      ]
    },
    {
      "cell_type": "code",
      "source": [
        "f, axes = plt.subplots(2,2, figsize=(20,10))\n",
        "\n",
        "sns.barplot(cross_val_score(clf_LR, X_train, y_train, cv=5), palette=\"Paired\", ax=axes[0][0])\n",
        "sns.barplot(cross_val_score(clf_SVM, X_train, y_train, cv=5), palette=\"Paired\", ax=axes[0][1])\n",
        "sns.barplot(cross_val_score(clf_RF, X_train, y_train, cv=5), palette=\"Paired\", ax=axes[1][0])\n",
        "sns.barplot(cross_val_score(clf_DT, X_train, y_train, cv=5), palette=\"Paired\", ax=axes[0][1])\n",
        "\n",
        "\n",
        "axes[1,1].set_axis_off()"
      ],
      "metadata": {
        "colab": {
          "base_uri": "https://localhost:8080/",
          "height": 850
        },
        "id": "fBIQIV5S64fi",
        "outputId": "2fbe6207-48c0-44a7-bb55-1c66485f88b4"
      },
      "execution_count": null,
      "outputs": [
        {
          "output_type": "display_data",
          "data": {
            "text/plain": [
              "<Figure size 2000x1000 with 4 Axes>"
            ],
            "image/png": "[encoded data removed]"
          },
          "metadata": {}
        }
      ]
    },
    {
      "cell_type": "markdown",
      "source": [
        "**LEARNING CURVE**"
      ],
      "metadata": {
        "id": "NRE3Ybbk7A41"
      }
    },
    {
      "cell_type": "code",
      "source": [
        "from sklearn.model_selection import learning_curve\n",
        "\n",
        "\n",
        "# estimator = model, X = feature matrix, y = target vector\n",
        "estimator=clf_LR\n",
        "train_sizes, train_scores, test_scores = learning_curve(estimator, X, y, cv=5)\n",
        "\n",
        "# plot the learning curve using matplotlib\n",
        "train_mean = np.mean(train_scores, axis=1)\n",
        "test_mean = np.mean(test_scores, axis=1)\n",
        "plt.plot(train_sizes, train_mean, label='Training score')\n",
        "plt.plot(train_sizes, test_mean, label='Cross-validation score')\n",
        "plt.xlabel('Training set size')\n",
        "plt.ylabel('Accuracy score')\n",
        "plt.legend()\n",
        "plt.show()"
      ],
      "metadata": {
        "colab": {
          "base_uri": "https://localhost:8080/",
          "height": 449
        },
        "id": "T97mSieA68zv",
        "outputId": "1e6f4e67-2b25-4d8c-fec1-77a55e340f0f"
      },
      "execution_count": null,
      "outputs": [
        {
          "output_type": "display_data",
          "data": {
            "text/plain": [
              "<Figure size 640x480 with 1 Axes>"
            ],
            "image/png": "[encoded data removed]"
          },
          "metadata": {}
        }
      ]
    },
    {
      "cell_type": "markdown",
      "source": [
        "**CONFUSION MATRIX**"
      ],
      "metadata": {
        "id": "bJIFMh997yrx"
      }
    },
    {
      "cell_type": "code",
      "source": [
        "from sklearn.metrics import confusion_matrix\n",
        "from sklearn.metrics import ConfusionMatrixDisplay\n",
        "import matplotlib.pyplot as plt\n"
      ],
      "metadata": {
        "id": "NFJDSlqT8Ble"
      },
      "execution_count": null,
      "outputs": []
    },
    {
      "cell_type": "code",
      "source": [
        "print(\"Confusion Matrix of Logistic regression\")\n",
        "cm_LR = confusion_matrix(y_test, y_pred_LR)\n",
        "print(cm_LR)\n",
        "disp = ConfusionMatrixDisplay(confusion_matrix=cm_LR)\n",
        "\n",
        "plt.show()\n",
        "disp.plot()\n"
      ],
      "metadata": {
        "colab": {
          "base_uri": "https://localhost:8080/",
          "height": 518
        },
        "id": "CFYrjyMS73L0",
        "outputId": "ec9e85c9-9f37-4fbb-9bc4-ed369be2ef13"
      },
      "execution_count": null,
      "outputs": [
        {
          "output_type": "stream",
          "name": "stdout",
          "text": [
            "Confusion Matrix of Logistic regression\n",
            "[[150   0]\n",
            " [  0 141]]\n"
          ]
        },
        {
          "output_type": "execute_result",
          "data": {
            "text/plain": [
              "<sklearn.metrics._plot.confusion_matrix.ConfusionMatrixDisplay at 0x7e7cf923f670>"
            ]
          },
          "metadata": {},
          "execution_count": 77
        },
        {
          "output_type": "display_data",
          "data": {
            "text/plain": [
              "<Figure size 640x480 with 2 Axes>"
            ],
            "image/png": "[encoded data removed]"
          },
          "metadata": {}
        }
      ]
    },
    {
      "cell_type": "code",
      "source": [
        "print(\"Confusion Matrix of SVM\")\n",
        "cm_SVM=confusion_matrix(y_test, y_pred_SVM)\n",
        "print(cm_SVM)\n",
        "disp1 = ConfusionMatrixDisplay(confusion_matrix=cm_SVM)\n",
        "\n",
        "plt.show()\n",
        "disp1.plot()\n"
      ],
      "metadata": {
        "colab": {
          "base_uri": "https://localhost:8080/",
          "height": 518
        },
        "id": "ioSzAOOJ8ufP",
        "outputId": "87a94fe6-3024-4404-8be8-e6f4a8f38b6c"
      },
      "execution_count": null,
      "outputs": [
        {
          "output_type": "stream",
          "name": "stdout",
          "text": [
            "Confusion Matrix of SVM\n",
            "[[150   0]\n",
            " [  0 141]]\n"
          ]
        },
        {
          "output_type": "execute_result",
          "data": {
            "text/plain": [
              "<sklearn.metrics._plot.confusion_matrix.ConfusionMatrixDisplay at 0x7e7cf8fe9d50>"
            ]
          },
          "metadata": {},
          "execution_count": 78
        },
        {
          "output_type": "display_data",
          "data": {
            "text/plain": [
              "<Figure size 640x480 with 2 Axes>"
            ],
            "image/png": "[encoded data removed]"
          },
          "metadata": {}
        }
      ]
    },
    {
      "cell_type": "code",
      "source": [
        "print(\"Confusion Matrix of SVM\")\n",
        "cm_RF=confusion_matrix(y_test, y_pred_RF)\n",
        "print(cm_RF)\n",
        "disp3 = ConfusionMatrixDisplay(confusion_matrix=cm_RF)\n",
        "\n",
        "plt.show()\n",
        "disp3.plot()"
      ],
      "metadata": {
        "colab": {
          "base_uri": "https://localhost:8080/",
          "height": 518
        },
        "id": "IEWS2gHgAkYZ",
        "outputId": "40c3cdf3-2e4d-4cd0-b875-a42d95c9156e"
      },
      "execution_count": null,
      "outputs": [
        {
          "output_type": "stream",
          "name": "stdout",
          "text": [
            "Confusion Matrix of SVM\n",
            "[[150   0]\n",
            " [  0 141]]\n"
          ]
        },
        {
          "output_type": "execute_result",
          "data": {
            "text/plain": [
              "<sklearn.metrics._plot.confusion_matrix.ConfusionMatrixDisplay at 0x7e7cf9abe620>"
            ]
          },
          "metadata": {},
          "execution_count": 75
        },
        {
          "output_type": "display_data",
          "data": {
            "text/plain": [
              "<Figure size 640x480 with 2 Axes>"
            ],
            "image/png": "[encoded data removed]"
          },
          "metadata": {}
        }
      ]
    },
    {
      "cell_type": "code",
      "source": [
        "print(\"Confusion Matrix of SVM\")\n",
        "cm_DT=confusion_matrix(y_test, y_pred_DT)\n",
        "print(cm_DT)\n",
        "disp4 = ConfusionMatrixDisplay(confusion_matrix=cm_DT)\n",
        "\n",
        "plt.show()\n",
        "disp4.plot()"
      ],
      "metadata": {
        "colab": {
          "base_uri": "https://localhost:8080/",
          "height": 518
        },
        "id": "XHdSknZvCQII",
        "outputId": "45ee6427-0dca-4695-cc2e-358ab865e26e"
      },
      "execution_count": null,
      "outputs": [
        {
          "output_type": "stream",
          "name": "stdout",
          "text": [
            "Confusion Matrix of SVM\n",
            "[[150   0]\n",
            " [  0 141]]\n"
          ]
        },
        {
          "output_type": "execute_result",
          "data": {
            "text/plain": [
              "<sklearn.metrics._plot.confusion_matrix.ConfusionMatrixDisplay at 0x7e7cf91bead0>"
            ]
          },
          "metadata": {},
          "execution_count": 79
        },
        {
          "output_type": "display_data",
          "data": {
            "text/plain": [
              "<Figure size 640x480 with 2 Axes>"
            ],
            "image/png": "[encoded data removed]"
          },
          "metadata": {}
        }
      ]
    },
    {
      "cell_type": "code",
      "source": [
        "# Plot ROC\n",
        "fig, axs = plt.subplots(figsize = (8, 6))\n",
        "\n",
        "(lrfpr, lrtpr, lrthresholds) = metrics.roc_curve(y_test, y_pred_LR)\n",
        "lrroc_auc = metrics.auc(lrfpr, lrtpr)\n",
        "plt.plot(lrfpr, lrtpr, label='LR AUC = %0.4f' % lrroc_auc)\n",
        "\n",
        "(dtfpr, dttpr, dtthresholds) = metrics.roc_curve(y_test, y_pred_DT)\n",
        "dtroc_auc = metrics.auc(dtfpr, dttpr)\n",
        "plt.plot(dtfpr, dttpr, label='DT AUC = %0.4f' % dtroc_auc)\n",
        "\n",
        "(svmfpr, svmtpr, svmthresholds) = metrics.roc_curve(y_test, y_pred_SVM)\n",
        "svmroc_auc = metrics.auc(svmfpr, svmtpr)\n",
        "plt.plot(svmfpr, svmtpr, label='SVM AUC = %0.4f' % svmroc_auc)\n",
        "\n",
        "(rffpr, rftpr, rfthresholds) = metrics.roc_curve(y_test, y_pred_RF)\n",
        "rfroc_auc = metrics.auc(rffpr, rftpr)\n",
        "plt.plot(rffpr, rftpr, label='RF AUC = %0.4f' % rfroc_auc)\n",
        "\n",
        "plt.legend(loc='lower right')\n",
        "plt.plot([0, 1], [0, 1], 'r--')\n",
        "plt.xlim([-0.001, 1])\n",
        "plt.ylim([0, 1.001])\n",
        "plt.ylabel('True Positive Rate')\n",
        "plt.xlabel('False Positive Rate')\n",
        "plt.show()"
      ],
      "metadata": {
        "colab": {
          "base_uri": "https://localhost:8080/",
          "height": 547
        },
        "id": "j7uqbX70Ccf2",
        "outputId": "48acc5cd-03bd-41f6-a92c-7607028a4372"
      },
      "execution_count": null,
      "outputs": [
        {
          "output_type": "display_data",
          "data": {
            "text/plain": [
              "<Figure size 800x600 with 1 Axes>"
            ],
            "image/png": "[encoded data removed]"
          },
          "metadata": {}
        }
      ]
    },
    {
      "cell_type": "code",
      "source": [],
      "metadata": {
        "id": "7AcDKegzCmMA"
      },
      "execution_count": null,
      "outputs": []
    }
  ]
}